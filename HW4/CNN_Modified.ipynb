{
  "nbformat": 4,
  "nbformat_minor": 0,
  "metadata": {
    "colab": {
      "name": "CNN_Modified",
      "version": "0.3.2",
      "provenance": [],
      "collapsed_sections": []
    },
    "kernelspec": {
      "name": "python3",
      "display_name": "Python 3"
    },
    "accelerator": "GPU"
  },
  "cells": [
    {
      "metadata": {
        "id": "cNZNmXCSGkkl",
        "colab_type": "code",
        "outputId": "b672e48b-8520-4d29-eef8-a815f71e5bbb",
        "colab": {
          "base_uri": "https://localhost:8080/",
          "height": 34
        }
      },
      "cell_type": "code",
      "source": [
        "from google.colab import drive\n",
        "drive.mount('/content/gdrive')\n"
      ],
      "execution_count": 85,
      "outputs": [
        {
          "output_type": "stream",
          "text": [
            "Drive already mounted at /content/gdrive; to attempt to forcibly remount, call drive.mount(\"/content/gdrive\", force_remount=True).\n"
          ],
          "name": "stdout"
        }
      ]
    },
    {
      "metadata": {
        "id": "qoCRlbIZUWcL",
        "colab_type": "code",
        "outputId": "76594f63-f415-4516-eece-de55aaea00bf",
        "colab": {
          "base_uri": "https://localhost:8080/",
          "height": 52
        }
      },
      "cell_type": "code",
      "source": [
        "cd 'My Drive'"
      ],
      "execution_count": 87,
      "outputs": [
        {
          "output_type": "stream",
          "text": [
            "[Errno 2] No such file or directory: 'My Drive'\n",
            "/content/gdrive/My Drive\n"
          ],
          "name": "stdout"
        }
      ]
    },
    {
      "metadata": {
        "id": "WrR-AZo9GoHS",
        "colab_type": "code",
        "colab": {}
      },
      "cell_type": "code",
      "source": [
        "# Python 2.7\n",
        "# By: Amin Mansouri\n",
        "\n",
        "# Import libraries\n",
        "import numpy as np\n",
        "import matplotlib.pyplot as plt\n",
        "import tensorflow as tf\n",
        "from tqdm import tqdm\n",
        "import pickle\n",
        "from sklearn.model_selection import train_test_split\n",
        "\n",
        "tf.reset_default_graph()\n",
        "\n",
        "# image data input (img shape: 28*28)\n",
        "n_input = 28\n",
        "\n",
        "n_classes = 10\n",
        "std = 0.1\n",
        "epsilon = 1e-5\n",
        "\n",
        "training_iterations = 10\n",
        "learning_rate = 0.001\n",
        "batch_size = 64\n",
        "keep_prob_input = 0.8\n",
        "\n",
        "weights = {\n",
        "    'weight_conv_layer_1': tf.get_variable('W0', shape=(7, 7, 1, 64),\n",
        "                                           initializer=tf.initializers.random_normal(stddev=std)\n",
        "                                           ),\n",
        "    'weight_conv_layer_2': tf.get_variable('W1', shape=(7, 7, 64, 64),\n",
        "                                           initializer=tf.initializers.random_normal(stddev=std)),\n",
        "    'weight_conv_layer_3': tf.get_variable('W2', shape=(7, 7, 64, 128),\n",
        "                                           initializer=tf.initializers.random_normal(stddev=std)),\n",
        "    'weight_conv_layer_4': tf.get_variable('W3', shape=(7, 7, 128, 128),\n",
        "                                           initializer=tf.initializers.random_normal(stddev=std)),\n",
        "    'weight_conv_layer_5': tf.get_variable('W4', shape=(7, 7, 128, 256),\n",
        "                                           initializer=tf.initializers.random_normal(stddev=std)),\n",
        "    'weight_conv_layer_6': tf.get_variable('W5', shape=(7, 7, 256, 256),\n",
        "                                           initializer=tf.initializers.random_normal(stddev=std)),\n",
        "\n",
        "    'w_fc': tf.get_variable('W_fc', shape=(7 * 7 * 256, 256), initializer=tf.initializers.random_normal(stddev=std)),\n",
        "    \n",
        "    'w_fc2': tf.get_variable('W_fc2', shape=(256, 256), initializer=tf.initializers.random_normal(stddev=std)),\n",
        "    'w_fc3': tf.get_variable('W_fc3', shape=(256, 256), initializer=tf.initializers.random_normal(stddev=std)),\n",
        "    'out': tf.get_variable('W_out', shape=(256, n_classes), initializer=tf.initializers.random_normal(stddev=std)),\n",
        "}\n",
        "biases = {\n",
        "    'bias_conv_layer_1': tf.get_variable('B0', shape=64, initializer=tf.initializers.random_normal(stddev=std)),\n",
        "    'bias_conv_layer_2': tf.get_variable('B1', shape=64, initializer=tf.initializers.random_normal(stddev=std)),\n",
        "    'bias_conv_layer_3': tf.get_variable('B2', shape=128, initializer=tf.initializers.random_normal(stddev=std)),\n",
        "    'bias_conv_layer_4': tf.get_variable('B3', shape=128, initializer=tf.initializers.random_normal(stddev=std)),\n",
        "    'bias_conv_layer_5': tf.get_variable('B4', shape=256, initializer=tf.initializers.random_normal(stddev=std)),\n",
        "    'bias_conv_layer_6': tf.get_variable('B5', shape=256, initializer=tf.initializers.random_normal(stddev=std)),\n",
        "    # 'bias_conv_layer_3': tf.get_variable('B2', shape=128, initializer=tf.contrib.layers.xavier_initializer()),\n",
        "    'b_fc': tf.get_variable('B_fc', shape=256, initializer=tf.initializers.random_normal(stddev=std)),\n",
        "    'b_fc2': tf.get_variable('B_fc2', shape=256, initializer=tf.initializers.random_normal(stddev=std)),\n",
        "    'b_fc3': tf.get_variable('B_fc3', shape=256, initializer=tf.initializers.random_normal(stddev=std)),\n",
        "    'out': tf.get_variable('B_out', shape=n_classes, initializer=tf.initializers.random_normal(stddev=std)),\n",
        "}\n",
        "\n",
        "\n",
        "def next_batch(num, data, labels):\n",
        "\n",
        "    \"\"\"Return a total of `num` random samples and labels.\"\"\"\n",
        "    idx = np.arange(0, len(data))\n",
        "    np.random.shuffle(idx)\n",
        "    idx = idx[:num]\n",
        "    data_shuffle = [data[i] for i in idx]\n",
        "    labels_shuffle = [labels[i] for i in idx]\n",
        "\n",
        "    return np.asarray(data_shuffle), np.asarray(labels_shuffle)\n",
        "\n",
        "\n",
        "# noinspection PyShadowingNames\n",
        "def conv2d(x, w, b, strides=1):\n",
        "    # Conv2D wrapper, with bias and ReLU activation\n",
        "    x = tf.nn.conv2d(x, w, strides=[1, strides, strides, 1], padding='SAME')\n",
        "    x = tf.nn.bias_add(x, b)\n",
        "    return tf.nn.relu(x)\n",
        "\n",
        "\n",
        "def maxpool2d(x, k=2):\n",
        "    return tf.nn.max_pool(x, ksize=[1, k, k, 1], strides=[1, k, k, 1], padding='SAME')\n",
        "\n",
        "\n",
        "def next_batch(num, data, labels):\n",
        "\n",
        "    \"\"\"Return a total of `num` random samples and labels.\"\"\"\n",
        "    idx = np.arange(0, len(data))\n",
        "    np.random.shuffle(idx)\n",
        "    idx = idx[:num]\n",
        "    data_shuffle = [data[i] for i in idx]\n",
        "    labels_shuffle = [labels[i] for i in idx]\n",
        "\n",
        "    return np.asarray(data_shuffle), np.asarray(labels_shuffle)"
      ],
      "execution_count": 0,
      "outputs": []
    },
    {
      "metadata": {
        "id": "5Wj-QqBiHEvg",
        "colab_type": "code",
        "colab": {}
      },
      "cell_type": "code",
      "source": [
        "pickle_in = open('train.data', 'rb')\n",
        "train_data = pickle.load(pickle_in)\n",
        "\n",
        "# pickle_in = open('test.data', 'rb')\n",
        "# test_data = pickle.load(pickle_in)\n",
        "\n",
        "x_train, x_validation, y_train, y_validation = train_test_split(train_data['data'], train_data['labels'], test_size=0.2)\n",
        "\n",
        "# both placeholders are of type float\n",
        "x = tf.placeholder(\"float\", [None, 28, 28, 1])\n",
        "# x = tf.placeholder(\"float\", [28, 28])\n",
        "y = tf.placeholder(\"float\", [None, n_classes])\n",
        "\n",
        "keep_prob = tf.placeholder(tf.float32)\n"
      ],
      "execution_count": 0,
      "outputs": []
    },
    {
      "metadata": {
        "id": "qPhW4ryQHI94",
        "colab_type": "code",
        "colab": {}
      },
      "cell_type": "code",
      "source": [
        "# Dropout\n",
        "x = tf.nn.dropout(x, keep_prob=keep_prob_input)\n",
        "\n",
        "# here we call the conv2d function we had defined above and pass the input image x, weights weight_conv_layer_1\n",
        "# and bias bias_conv_layer_1.\n",
        "conv1 = conv2d(x, weights['weight_conv_layer_1'], biases['bias_conv_layer_1'], strides=2)\n",
        "# Max Pooling (down-sampling), this chooses the max value from a 2*2 matrix window and outputs a 14*14 matrix.\n",
        "conv1_maxpool = maxpool2d(conv1, k=1)\n",
        "batch_mean_1, batch_var_1 = tf.nn.moments(conv1_maxpool, [0])\n",
        "beta_1 = tf.Variable(tf.zeros(conv1_maxpool.get_shape().as_list()[1:]))\n",
        "scale_1 = tf.Variable(tf.zeros(conv1_maxpool.get_shape().as_list()[1:]))\n",
        "conv1_maxpool = tf.nn.batch_normalization(conv1_maxpool, batch_mean_1, batch_var_1, offset=beta_1, scale=scale_1, variance_epsilon=epsilon)\n",
        "\n",
        "# Dropout\n",
        "conv1_maxpool = tf.nn.dropout(conv1_maxpool, keep_prob=keep_prob)\n",
        "\n",
        "conv2 = conv2d(conv1_maxpool, weights['weight_conv_layer_2'], biases['bias_conv_layer_2'], strides=2)\n",
        "conv2_maxpool = maxpool2d(conv2, k=1)\n",
        "batch_mean_2, batch_var_2 = tf.nn.moments(conv2_maxpool, [0])\n",
        "beta_2 = tf.Variable(tf.zeros(conv2_maxpool.get_shape().as_list()[1:]))\n",
        "scale_2 = tf.Variable(tf.zeros(conv2_maxpool.get_shape().as_list()[1:]))\n",
        "conv2_maxpool = tf.nn.batch_normalization(conv2_maxpool, batch_mean_2, batch_var_2, offset=beta_2, scale=scale_2, variance_epsilon=epsilon)\n",
        "\n",
        "# Dropout\n",
        "conv2_maxpool = tf.nn.dropout(conv2_maxpool, keep_prob=keep_prob)\n",
        "\n",
        "conv3 = conv2d(conv2_maxpool, weights['weight_conv_layer_3'], biases['bias_conv_layer_3'], strides=1)\n",
        "batch_mean_3, batch_var_3 = tf.nn.moments(conv3, [0])\n",
        "beta_3 = tf.Variable(tf.zeros(conv3.get_shape().as_list()[1:]))\n",
        "scale_3 = tf.Variable(tf.zeros(conv3.get_shape().as_list()[1:]))\n",
        "conv3 = tf.nn.batch_normalization(conv3, batch_mean_3, batch_var_3, offset=beta_3, scale=scale_3, variance_epsilon=epsilon)\n",
        "\n",
        "# Dropout\n",
        "conv3 = tf.nn.dropout(conv3, keep_prob=keep_prob)\n",
        "\n",
        "conv4 = conv2d(conv3, weights['weight_conv_layer_4'], biases['bias_conv_layer_4'], strides=1)\n",
        "batch_mean_4, batch_var_4 = tf.nn.moments(conv4, [0])\n",
        "beta_4 = tf.Variable(tf.zeros(conv4.get_shape().as_list()[1:]))\n",
        "scale_4 = tf.Variable(tf.zeros(conv4.get_shape().as_list()[1:]))\n",
        "conv4 = tf.nn.batch_normalization(conv4, batch_mean_4, batch_var_4, offset=beta_4, scale=scale_4, variance_epsilon=epsilon)\n",
        "\n",
        "# Dropout\n",
        "conv4 = tf.nn.dropout(conv4, keep_prob=keep_prob)\n",
        "\n",
        "conv5 = conv2d(conv4, weights['weight_conv_layer_5'], biases['bias_conv_layer_5'], strides=1)\n",
        "batch_mean_5, batch_var_5 = tf.nn.moments(conv5, [0])\n",
        "beta_5 = tf.Variable(tf.zeros(conv5.get_shape().as_list()[1:]))\n",
        "scale_5 = tf.Variable(tf.zeros(conv5.get_shape().as_list()[1:]))\n",
        "conv5 = tf.nn.batch_normalization(conv5, batch_mean_5, batch_var_5, offset=beta_5, scale=scale_5, variance_epsilon=epsilon)\n",
        "\n",
        "# Dropout\n",
        "conv5 = tf.nn.dropout(conv5, keep_prob=keep_prob)\n",
        "\n",
        "conv6 = conv2d(conv5, weights['weight_conv_layer_6'], biases['bias_conv_layer_6'], strides=1)\n",
        "batch_mean_6, batch_var_6 = tf.nn.moments(conv5, [0])\n",
        "beta_6 = tf.Variable(tf.zeros(conv6.get_shape().as_list()[1:]))\n",
        "scale_6 = tf.Variable(tf.zeros(conv6.get_shape().as_list()[1:]))\n",
        "conv6 = tf.nn.batch_normalization(conv6, batch_mean_6, batch_var_6, offset=beta_6, scale=scale_6, variance_epsilon=epsilon)\n",
        "\n",
        "# Dropout\n",
        "conv6 = tf.nn.dropout(conv6, keep_prob=keep_prob)\n",
        "\n",
        "# Fully connected layer\n",
        "# Reshape conv6 output to fit fully connected layer input\n",
        "fc1 = tf.reshape(conv6, [-1, weights['w_fc'].get_shape().as_list()[0]])\n",
        "fc1 = tf.add(tf.matmul(fc1, weights['w_fc']), biases['b_fc'])\n",
        "fc1 = tf.nn.relu(fc1)\n",
        "\n",
        "fc2 = tf.reshape(fc1, [-1, weights['w_fc2'].get_shape().as_list()[0]])\n",
        "fc2 = tf.add(tf.matmul(fc2, weights['w_fc2']), biases['b_fc2'])\n",
        "fc2 = tf.nn.relu(fc2)\n",
        "\n",
        "fc3 = tf.reshape(fc2, [-1, weights['w_fc3'].get_shape().as_list()[0]])\n",
        "fc3 = tf.add(tf.matmul(fc3, weights['w_fc3']), biases['b_fc3'])\n",
        "fc3 = tf.nn.relu(fc3)\n",
        "\n",
        "# Output, class prediction\n",
        "# finally we multiply the fully connected layer with the weights and add a bias term.\n",
        "out = tf.add(tf.matmul(fc3, weights['out']), biases['out'])\n"
      ],
      "execution_count": 0,
      "outputs": []
    },
    {
      "metadata": {
        "id": "D3ezQluZIqcK",
        "colab_type": "code",
        "colab": {}
      },
      "cell_type": "code",
      "source": [
        "prediction = out\n",
        "\n",
        "cost = tf.reduce_mean(tf.nn.softmax_cross_entropy_with_logits(logits=prediction, labels=y))\n",
        "\n",
        "optimizer = tf.train.AdamOptimizer(learning_rate=learning_rate).minimize(cost)\n",
        "\n",
        "# Here you check whether the index of the maximum value of the predicted image is equal to the actual labelled image.\n",
        "#  and both will be a column vector.\n",
        "correct_prediction = tf.equal(tf.argmax(prediction, 1), tf.argmax(y, 1))\n",
        "\n",
        "confusion_matrix = tf.confusion_matrix(tf.argmax(prediction, 1), tf.argmax(y, 1), num_classes=10)\n",
        "# calculate accuracy across all the given images and average them out.\n",
        "accuracy = tf.reduce_mean(tf.cast(correct_prediction, tf.float32))\n",
        "\n",
        "# summary settings:\n",
        "\n",
        "train_loss_summary = tf.summary.scalar('loss_train', cost)\n",
        "train_accuracy_summary = tf.summary.scalar('train_accuracy', accuracy)\n",
        "train_summaries = tf.summary.merge([train_loss_summary, train_accuracy_summary])\n",
        "# file_writer = tf.summary.FileWriter('./Output', sess.graph)\n",
        "\n",
        "validation_loss_summary = tf.summary.scalar('loss_validation', cost)\n",
        "validation_accuracy_summary = tf.summary.scalar('validation_accuracy', accuracy)\n",
        "validation_summaries = tf.summary.merge([validation_loss_summary, validation_accuracy_summary])\n",
        "# validation_file_writer = tf.summary.FileWriter(output_folder)\n",
        "\n",
        "# Initializing the variables\n",
        "init = tf.global_variables_initializer()\n",
        "\n",
        "saver = tf.train.Saver()"
      ],
      "execution_count": 0,
      "outputs": []
    },
    {
      "metadata": {
        "id": "r3ASaEJ9I4vG",
        "colab_type": "code",
        "outputId": "49122e3e-724f-450b-e635-b8c411a5b1a6",
        "colab": {
          "base_uri": "https://localhost:8080/",
          "height": 382
        }
      },
      "cell_type": "code",
      "source": [
        "curr_img = np.reshape(x_train[1], (28, 28))\n",
        "curr_lbl = np.argmax(y_train[1, :])\n",
        "plt.imshow(curr_img)\n",
        "plt.show()\n",
        "\n",
        "# Reshape training and testing image\n",
        "train_X = x_train.reshape(-1, 28, 28, 1)\n",
        "test_X = x_validation.reshape(-1, 28, 28, 1)\n",
        "\n",
        "print([train_X.shape, test_X.shape])\n",
        "\n",
        "train_y = y_train\n",
        "test_y = y_validation\n",
        "\n",
        "print(train_y.shape, test_y.shape)\n",
        "\n",
        "\n",
        "\n"
      ],
      "execution_count": 95,
      "outputs": [
        {
          "output_type": "display_data",
          "data": {
            "image/png": "[encoded data removed]",
            "text/plain": [
              "<Figure size 576x396 with 1 Axes>"
            ]
          },
          "metadata": {
            "tags": []
          }
        },
        {
          "output_type": "stream",
          "text": [
            "[(32000, 28, 28, 1), (8000, 28, 28, 1)]\n",
            "(32000, 10) (8000, 10)\n"
          ],
          "name": "stdout"
        }
      ]
    },
    {
      "metadata": {
        "id": "ayoSHxb_I7Mt",
        "colab_type": "code",
        "outputId": "43ef62a5-12b4-4654-f2a1-f4052560e3e0",
        "colab": {
          "base_uri": "https://localhost:8080/",
          "height": 9186
        }
      },
      "cell_type": "code",
      "source": [
        "# Batch Mode Learning\n",
        "\n",
        "counter = 0\n",
        "disp_counter = 20\n",
        "\n",
        "mis_classified_idx = []\n",
        "\n",
        "with tf.Session() as sess:\n",
        "    sess.run(init)\n",
        "\n",
        "    merge = tf.summary.merge_all()\n",
        "    summary_writer_train = tf.summary.FileWriter('./CNNIII_train', sess.graph)\n",
        "    summary_writer_validation = tf.summary.FileWriter('./CNNIII_validation', sess.graph)\n",
        "\n",
        "    # ########################################## Training ########################################## #\n",
        "\n",
        "    for i in range(training_iterations):\n",
        "\n",
        "        # for batch in tqdm(range(len(train_X) // batch_size // training_iterations)):\n",
        "        #\n",
        "        #     counter += 1\n",
        "        #     batch_x = train_X[(batch + i * len(train_X) // batch_size // training_iterations) *\n",
        "        #                       batch_size:min((batch + 1 + i * len(train_X) // batch_size // training_iterations) *\n",
        "        #                                      batch_size, len(train_X))]\n",
        "        #     batch_y = train_y[(batch + i * len(train_X) // batch_size // training_iterations) *\n",
        "        #                       batch_size:min((batch + 1 + i * len(train_X) // batch_size // training_iterations) *\n",
        "        #                                      batch_size, len(train_y))]\n",
        "\n",
        "        for batch in tqdm(range(len(train_X) // batch_size)):\n",
        "\n",
        "            counter += 1\n",
        "            batch_x, batch_y = next_batch(batch_size, train_X, train_y)\n",
        "\n",
        "            # Run optimization op (backprop).\n",
        "            # Calculate batch loss and accuracy\n",
        "            opt = sess.run(optimizer, feed_dict={x: batch_x,\n",
        "                                                 y: batch_y, keep_prob: 0.5})\n",
        "            loss, acc = sess.run([cost, accuracy], feed_dict={x: batch_x,\n",
        "                                                              y: batch_y, keep_prob: 0.5})\n",
        "\n",
        "            # summary_writer_train.add_summary(\n",
        "            #     (sess.run(train_summaries, feed_dict={x: batch_x,\n",
        "            #                                           y: batch_y, keep_prob: 0.5})), batch)\n",
        "\n",
        "            if counter % disp_counter == 0:\n",
        "\n",
        "                print(\"Iter \" + str(i) + \", Loss= \" + \"{:.6f}\".format(loss) + \", Training Accuracy= \" + \"{:.5f}\".format(acc)\n",
        "                      )\n",
        "                print(\"Optimization Finished!\")\n",
        "\n",
        "        x_batch, y_batch = next_batch(batch_size, x_train, y_train)\n",
        "        summary_writer_train.add_summary((sess.run(train_loss_summary, feed_dict={x: x_batch, y: y_batch, keep_prob: 0.5})), i)\n",
        "\n",
        "        x_batch, y_batch = next_batch(batch_size, x_validation, y_validation)\n",
        "        summary_writer_validation.add_summary(sess.run(validation_loss_summary, feed_dict={x: x_batch, y: y_batch, keep_prob: 1.0}), i)\n",
        "\n",
        "    # ########################################## Testing ########################################## #\n",
        "\n",
        "    counter = 0\n",
        "\n",
        "    while counter <= len(x_validation):\n",
        "        counter += 1\n",
        "\n",
        "        x_batch, y_batch = next_batch(1, x_validation, y_validation)\n",
        "        # summary_writer_validation.add_summary((sess.run(validation_loss_summary, feed_dict={x: x_batch, y: y_batch, keep_prob: 1.0})), counter)\n",
        "\n",
        "        prediction_result = sess.run(correct_prediction, feed_dict={x: x_batch, y: y_batch, keep_prob: 1.0})\n",
        "        prediction_result = np.bool(prediction_result)\n",
        "        # print(type(prediction_result))\n",
        "        # print(prediction_result)\n",
        "        if prediction_result:\n",
        "            # print('hello')\n",
        "            mis_classified_idx.append(counter)\n",
        "            # print('prediction for valid id: ' + str(counter) + 'is: ' + str(prediction_result) + ' which is FALSE')\n",
        "\n",
        "    # Calculate accuracy for all test images\n",
        "    x_batch, y_batch = x_validation, y_validation\n",
        "    accuracy_test, loss_test = sess.run((accuracy, cost), feed_dict={x: x_batch, y: y_batch, keep_prob: 1.0})\n",
        "    cm = sess.run(confusion_matrix, feed_dict={x: x_batch, y: y_batch, keep_prob: 1.0})\n",
        "    print(cm)\n",
        "    print(\"The test accuracy is:\" + str(accuracy_test))\n",
        "\n",
        "    summary_writer_train.close()\n",
        "    summary_writer_validation.close()\n",
        "\n",
        "# For future use: tensorboard --logdir=train:./Output_train,validation:./Output_validation,conv_1:./conv_1_filters,\n",
        "# conv2:./conv_2_filters\n"
      ],
      "execution_count": 96,
      "outputs": [
        {
          "output_type": "stream",
          "text": [
            "  4%|▍         | 22/500 [00:02<00:40, 11.84it/s]"
          ],
          "name": "stderr"
        },
        {
          "output_type": "stream",
          "text": [
            "Iter 0, Loss= 2.342441, Training Accuracy= 0.14062\n",
            "Optimization Finished!\n"
          ],
          "name": "stdout"
        },
        {
          "output_type": "stream",
          "text": [
            "  8%|▊         | 42/500 [00:03<00:36, 12.43it/s]"
          ],
          "name": "stderr"
        },
        {
          "output_type": "stream",
          "text": [
            "Iter 0, Loss= 2.389782, Training Accuracy= 0.15625\n",
            "Optimization Finished!\n"
          ],
          "name": "stdout"
        },
        {
          "output_type": "stream",
          "text": [
            " 12%|█▏        | 62/500 [00:05<00:35, 12.41it/s]"
          ],
          "name": "stderr"
        },
        {
          "output_type": "stream",
          "text": [
            "Iter 0, Loss= 2.354382, Training Accuracy= 0.07812\n",
            "Optimization Finished!\n"
          ],
          "name": "stdout"
        },
        {
          "output_type": "stream",
          "text": [
            " 16%|█▋        | 82/500 [00:06<00:33, 12.47it/s]"
          ],
          "name": "stderr"
        },
        {
          "output_type": "stream",
          "text": [
            "Iter 0, Loss= 2.368416, Training Accuracy= 0.06250\n",
            "Optimization Finished!\n"
          ],
          "name": "stdout"
        },
        {
          "output_type": "stream",
          "text": [
            " 20%|██        | 102/500 [00:08<00:31, 12.53it/s]"
          ],
          "name": "stderr"
        },
        {
          "output_type": "stream",
          "text": [
            "Iter 0, Loss= 2.450404, Training Accuracy= 0.04688\n",
            "Optimization Finished!\n"
          ],
          "name": "stdout"
        },
        {
          "output_type": "stream",
          "text": [
            " 24%|██▍       | 122/500 [00:10<00:30, 12.39it/s]"
          ],
          "name": "stderr"
        },
        {
          "output_type": "stream",
          "text": [
            "Iter 0, Loss= 2.314420, Training Accuracy= 0.09375\n",
            "Optimization Finished!\n"
          ],
          "name": "stdout"
        },
        {
          "output_type": "stream",
          "text": [
            " 28%|██▊       | 142/500 [00:11<00:28, 12.48it/s]"
          ],
          "name": "stderr"
        },
        {
          "output_type": "stream",
          "text": [
            "Iter 0, Loss= 2.352127, Training Accuracy= 0.12500\n",
            "Optimization Finished!\n"
          ],
          "name": "stdout"
        },
        {
          "output_type": "stream",
          "text": [
            " 32%|███▏      | 162/500 [00:13<00:27, 12.51it/s]"
          ],
          "name": "stderr"
        },
        {
          "output_type": "stream",
          "text": [
            "Iter 0, Loss= 2.376783, Training Accuracy= 0.09375\n",
            "Optimization Finished!\n"
          ],
          "name": "stdout"
        },
        {
          "output_type": "stream",
          "text": [
            " 36%|███▋      | 182/500 [00:14<00:25, 12.46it/s]"
          ],
          "name": "stderr"
        },
        {
          "output_type": "stream",
          "text": [
            "Iter 0, Loss= 2.330233, Training Accuracy= 0.06250\n",
            "Optimization Finished!\n"
          ],
          "name": "stdout"
        },
        {
          "output_type": "stream",
          "text": [
            " 40%|████      | 202/500 [00:16<00:24, 12.29it/s]"
          ],
          "name": "stderr"
        },
        {
          "output_type": "stream",
          "text": [
            "Iter 0, Loss= 2.274521, Training Accuracy= 0.14062\n",
            "Optimization Finished!\n"
          ],
          "name": "stdout"
        },
        {
          "output_type": "stream",
          "text": [
            " 44%|████▍     | 222/500 [00:18<00:22, 12.49it/s]"
          ],
          "name": "stderr"
        },
        {
          "output_type": "stream",
          "text": [
            "Iter 0, Loss= 2.342765, Training Accuracy= 0.07812\n",
            "Optimization Finished!\n"
          ],
          "name": "stdout"
        },
        {
          "output_type": "stream",
          "text": [
            " 48%|████▊     | 242/500 [00:19<00:20, 12.44it/s]"
          ],
          "name": "stderr"
        },
        {
          "output_type": "stream",
          "text": [
            "Iter 0, Loss= 2.349623, Training Accuracy= 0.10938\n",
            "Optimization Finished!\n"
          ],
          "name": "stdout"
        },
        {
          "output_type": "stream",
          "text": [
            " 52%|█████▏    | 262/500 [00:21<00:18, 12.59it/s]"
          ],
          "name": "stderr"
        },
        {
          "output_type": "stream",
          "text": [
            "Iter 0, Loss= 2.340982, Training Accuracy= 0.14062\n",
            "Optimization Finished!\n"
          ],
          "name": "stdout"
        },
        {
          "output_type": "stream",
          "text": [
            " 56%|█████▋    | 282/500 [00:22<00:17, 12.45it/s]"
          ],
          "name": "stderr"
        },
        {
          "output_type": "stream",
          "text": [
            "Iter 0, Loss= 2.334146, Training Accuracy= 0.03125\n",
            "Optimization Finished!\n"
          ],
          "name": "stdout"
        },
        {
          "output_type": "stream",
          "text": [
            " 60%|██████    | 302/500 [00:24<00:15, 12.63it/s]"
          ],
          "name": "stderr"
        },
        {
          "output_type": "stream",
          "text": [
            "Iter 0, Loss= 2.343836, Training Accuracy= 0.10938\n",
            "Optimization Finished!\n"
          ],
          "name": "stdout"
        },
        {
          "output_type": "stream",
          "text": [
            " 64%|██████▍   | 322/500 [00:26<00:14, 12.56it/s]"
          ],
          "name": "stderr"
        },
        {
          "output_type": "stream",
          "text": [
            "Iter 0, Loss= 2.309578, Training Accuracy= 0.10938\n",
            "Optimization Finished!\n"
          ],
          "name": "stdout"
        },
        {
          "output_type": "stream",
          "text": [
            " 68%|██████▊   | 342/500 [00:27<00:12, 12.40it/s]"
          ],
          "name": "stderr"
        },
        {
          "output_type": "stream",
          "text": [
            "Iter 0, Loss= 2.279463, Training Accuracy= 0.12500\n",
            "Optimization Finished!\n"
          ],
          "name": "stdout"
        },
        {
          "output_type": "stream",
          "text": [
            " 72%|███████▏  | 362/500 [00:29<00:11, 12.41it/s]"
          ],
          "name": "stderr"
        },
        {
          "output_type": "stream",
          "text": [
            "Iter 0, Loss= 2.301615, Training Accuracy= 0.10938\n",
            "Optimization Finished!\n"
          ],
          "name": "stdout"
        },
        {
          "output_type": "stream",
          "text": [
            " 76%|███████▋  | 382/500 [00:30<00:09, 12.52it/s]"
          ],
          "name": "stderr"
        },
        {
          "output_type": "stream",
          "text": [
            "Iter 0, Loss= 2.294131, Training Accuracy= 0.15625\n",
            "Optimization Finished!\n"
          ],
          "name": "stdout"
        },
        {
          "output_type": "stream",
          "text": [
            " 80%|████████  | 402/500 [00:32<00:07, 12.48it/s]"
          ],
          "name": "stderr"
        },
        {
          "output_type": "stream",
          "text": [
            "Iter 0, Loss= 2.346412, Training Accuracy= 0.01562\n",
            "Optimization Finished!\n"
          ],
          "name": "stdout"
        },
        {
          "output_type": "stream",
          "text": [
            " 84%|████████▍ | 422/500 [00:34<00:06, 12.51it/s]"
          ],
          "name": "stderr"
        },
        {
          "output_type": "stream",
          "text": [
            "Iter 0, Loss= 2.311016, Training Accuracy= 0.18750\n",
            "Optimization Finished!\n"
          ],
          "name": "stdout"
        },
        {
          "output_type": "stream",
          "text": [
            " 88%|████████▊ | 442/500 [00:35<00:04, 12.45it/s]"
          ],
          "name": "stderr"
        },
        {
          "output_type": "stream",
          "text": [
            "Iter 0, Loss= 2.282202, Training Accuracy= 0.14062\n",
            "Optimization Finished!\n"
          ],
          "name": "stdout"
        },
        {
          "output_type": "stream",
          "text": [
            " 92%|█████████▏| 462/500 [00:37<00:03, 12.51it/s]"
          ],
          "name": "stderr"
        },
        {
          "output_type": "stream",
          "text": [
            "Iter 0, Loss= 2.337230, Training Accuracy= 0.07812\n",
            "Optimization Finished!\n"
          ],
          "name": "stdout"
        },
        {
          "output_type": "stream",
          "text": [
            " 96%|█████████▋| 482/500 [00:39<00:01, 12.37it/s]"
          ],
          "name": "stderr"
        },
        {
          "output_type": "stream",
          "text": [
            "Iter 0, Loss= 2.294590, Training Accuracy= 0.14062\n",
            "Optimization Finished!\n"
          ],
          "name": "stdout"
        },
        {
          "output_type": "stream",
          "text": [
            "100%|██████████| 500/500 [00:40<00:00, 12.51it/s]\n",
            "  0%|          | 0/500 [00:00<?, ?it/s]"
          ],
          "name": "stderr"
        },
        {
          "output_type": "stream",
          "text": [
            "Iter 0, Loss= 2.293743, Training Accuracy= 0.09375\n",
            "Optimization Finished!\n"
          ],
          "name": "stdout"
        },
        {
          "output_type": "stream",
          "text": [
            "  4%|▍         | 22/500 [00:01<00:38, 12.51it/s]"
          ],
          "name": "stderr"
        },
        {
          "output_type": "stream",
          "text": [
            "Iter 1, Loss= 2.212375, Training Accuracy= 0.12500\n",
            "Optimization Finished!\n"
          ],
          "name": "stdout"
        },
        {
          "output_type": "stream",
          "text": [
            "  8%|▊         | 42/500 [00:03<00:36, 12.56it/s]"
          ],
          "name": "stderr"
        },
        {
          "output_type": "stream",
          "text": [
            "Iter 1, Loss= 2.062831, Training Accuracy= 0.15625\n",
            "Optimization Finished!\n"
          ],
          "name": "stdout"
        },
        {
          "output_type": "stream",
          "text": [
            " 12%|█▏        | 62/500 [00:04<00:35, 12.45it/s]"
          ],
          "name": "stderr"
        },
        {
          "output_type": "stream",
          "text": [
            "Iter 1, Loss= 2.140186, Training Accuracy= 0.18750\n",
            "Optimization Finished!\n"
          ],
          "name": "stdout"
        },
        {
          "output_type": "stream",
          "text": [
            " 16%|█▋        | 82/500 [00:06<00:33, 12.48it/s]"
          ],
          "name": "stderr"
        },
        {
          "output_type": "stream",
          "text": [
            "Iter 1, Loss= 1.963211, Training Accuracy= 0.28125\n",
            "Optimization Finished!\n"
          ],
          "name": "stdout"
        },
        {
          "output_type": "stream",
          "text": [
            " 20%|██        | 102/500 [00:08<00:31, 12.49it/s]"
          ],
          "name": "stderr"
        },
        {
          "output_type": "stream",
          "text": [
            "Iter 1, Loss= 2.216539, Training Accuracy= 0.18750\n",
            "Optimization Finished!\n"
          ],
          "name": "stdout"
        },
        {
          "output_type": "stream",
          "text": [
            " 24%|██▍       | 122/500 [00:09<00:31, 12.18it/s]"
          ],
          "name": "stderr"
        },
        {
          "output_type": "stream",
          "text": [
            "Iter 1, Loss= 1.765814, Training Accuracy= 0.21875\n",
            "Optimization Finished!\n"
          ],
          "name": "stdout"
        },
        {
          "output_type": "stream",
          "text": [
            " 28%|██▊       | 142/500 [00:11<00:28, 12.37it/s]"
          ],
          "name": "stderr"
        },
        {
          "output_type": "stream",
          "text": [
            "Iter 1, Loss= 1.906069, Training Accuracy= 0.31250\n",
            "Optimization Finished!\n"
          ],
          "name": "stdout"
        },
        {
          "output_type": "stream",
          "text": [
            " 32%|███▏      | 162/500 [00:13<00:27, 12.44it/s]"
          ],
          "name": "stderr"
        },
        {
          "output_type": "stream",
          "text": [
            "Iter 1, Loss= 1.762588, Training Accuracy= 0.25000\n",
            "Optimization Finished!\n"
          ],
          "name": "stdout"
        },
        {
          "output_type": "stream",
          "text": [
            " 36%|███▋      | 182/500 [00:14<00:25, 12.48it/s]"
          ],
          "name": "stderr"
        },
        {
          "output_type": "stream",
          "text": [
            "Iter 1, Loss= 1.577607, Training Accuracy= 0.42188\n",
            "Optimization Finished!\n"
          ],
          "name": "stdout"
        },
        {
          "output_type": "stream",
          "text": [
            " 40%|████      | 202/500 [00:16<00:23, 12.50it/s]"
          ],
          "name": "stderr"
        },
        {
          "output_type": "stream",
          "text": [
            "Iter 1, Loss= 1.805679, Training Accuracy= 0.31250\n",
            "Optimization Finished!\n"
          ],
          "name": "stdout"
        },
        {
          "output_type": "stream",
          "text": [
            " 44%|████▍     | 222/500 [00:17<00:22, 12.38it/s]"
          ],
          "name": "stderr"
        },
        {
          "output_type": "stream",
          "text": [
            "Iter 1, Loss= 1.671366, Training Accuracy= 0.26562\n",
            "Optimization Finished!\n"
          ],
          "name": "stdout"
        },
        {
          "output_type": "stream",
          "text": [
            " 48%|████▊     | 242/500 [00:19<00:20, 12.40it/s]"
          ],
          "name": "stderr"
        },
        {
          "output_type": "stream",
          "text": [
            "Iter 1, Loss= 1.692639, Training Accuracy= 0.39062\n",
            "Optimization Finished!\n"
          ],
          "name": "stdout"
        },
        {
          "output_type": "stream",
          "text": [
            " 52%|█████▏    | 262/500 [00:21<00:19, 12.33it/s]"
          ],
          "name": "stderr"
        },
        {
          "output_type": "stream",
          "text": [
            "Iter 1, Loss= 1.733801, Training Accuracy= 0.29688\n",
            "Optimization Finished!\n"
          ],
          "name": "stdout"
        },
        {
          "output_type": "stream",
          "text": [
            " 56%|█████▋    | 282/500 [00:22<00:17, 12.43it/s]"
          ],
          "name": "stderr"
        },
        {
          "output_type": "stream",
          "text": [
            "Iter 1, Loss= 1.613557, Training Accuracy= 0.35938\n",
            "Optimization Finished!\n"
          ],
          "name": "stdout"
        },
        {
          "output_type": "stream",
          "text": [
            " 60%|██████    | 302/500 [00:24<00:16, 12.32it/s]"
          ],
          "name": "stderr"
        },
        {
          "output_type": "stream",
          "text": [
            "Iter 1, Loss= 1.538959, Training Accuracy= 0.46875\n",
            "Optimization Finished!\n"
          ],
          "name": "stdout"
        },
        {
          "output_type": "stream",
          "text": [
            " 64%|██████▍   | 322/500 [00:25<00:14, 12.46it/s]"
          ],
          "name": "stderr"
        },
        {
          "output_type": "stream",
          "text": [
            "Iter 1, Loss= 1.384718, Training Accuracy= 0.45312\n",
            "Optimization Finished!\n"
          ],
          "name": "stdout"
        },
        {
          "output_type": "stream",
          "text": [
            " 68%|██████▊   | 342/500 [00:27<00:12, 12.34it/s]"
          ],
          "name": "stderr"
        },
        {
          "output_type": "stream",
          "text": [
            "Iter 1, Loss= 1.450065, Training Accuracy= 0.45312\n",
            "Optimization Finished!\n"
          ],
          "name": "stdout"
        },
        {
          "output_type": "stream",
          "text": [
            " 72%|███████▏  | 362/500 [00:29<00:11, 12.46it/s]"
          ],
          "name": "stderr"
        },
        {
          "output_type": "stream",
          "text": [
            "Iter 1, Loss= 1.473956, Training Accuracy= 0.42188\n",
            "Optimization Finished!\n"
          ],
          "name": "stdout"
        },
        {
          "output_type": "stream",
          "text": [
            " 76%|███████▋  | 382/500 [00:30<00:09, 12.43it/s]"
          ],
          "name": "stderr"
        },
        {
          "output_type": "stream",
          "text": [
            "Iter 1, Loss= 1.385523, Training Accuracy= 0.60938\n",
            "Optimization Finished!\n"
          ],
          "name": "stdout"
        },
        {
          "output_type": "stream",
          "text": [
            " 80%|████████  | 402/500 [00:32<00:07, 12.44it/s]"
          ],
          "name": "stderr"
        },
        {
          "output_type": "stream",
          "text": [
            "Iter 1, Loss= 1.310652, Training Accuracy= 0.50000\n",
            "Optimization Finished!\n"
          ],
          "name": "stdout"
        },
        {
          "output_type": "stream",
          "text": [
            " 84%|████████▍ | 422/500 [00:33<00:06, 12.49it/s]"
          ],
          "name": "stderr"
        },
        {
          "output_type": "stream",
          "text": [
            "Iter 1, Loss= 1.280813, Training Accuracy= 0.50000\n",
            "Optimization Finished!\n"
          ],
          "name": "stdout"
        },
        {
          "output_type": "stream",
          "text": [
            " 88%|████████▊ | 442/500 [00:35<00:04, 12.42it/s]"
          ],
          "name": "stderr"
        },
        {
          "output_type": "stream",
          "text": [
            "Iter 1, Loss= 1.229365, Training Accuracy= 0.57812\n",
            "Optimization Finished!\n"
          ],
          "name": "stdout"
        },
        {
          "output_type": "stream",
          "text": [
            " 92%|█████████▏| 462/500 [00:37<00:03, 12.58it/s]"
          ],
          "name": "stderr"
        },
        {
          "output_type": "stream",
          "text": [
            "Iter 1, Loss= 1.159591, Training Accuracy= 0.54688\n",
            "Optimization Finished!\n"
          ],
          "name": "stdout"
        },
        {
          "output_type": "stream",
          "text": [
            " 96%|█████████▋| 482/500 [00:38<00:01, 12.54it/s]"
          ],
          "name": "stderr"
        },
        {
          "output_type": "stream",
          "text": [
            "Iter 1, Loss= 0.933789, Training Accuracy= 0.71875\n",
            "Optimization Finished!\n"
          ],
          "name": "stdout"
        },
        {
          "output_type": "stream",
          "text": [
            "100%|██████████| 500/500 [00:40<00:00, 12.46it/s]\n",
            "  0%|          | 0/500 [00:00<?, ?it/s]"
          ],
          "name": "stderr"
        },
        {
          "output_type": "stream",
          "text": [
            "Iter 1, Loss= 0.926474, Training Accuracy= 0.75000\n",
            "Optimization Finished!\n"
          ],
          "name": "stdout"
        },
        {
          "output_type": "stream",
          "text": [
            "  4%|▍         | 22/500 [00:01<00:38, 12.44it/s]"
          ],
          "name": "stderr"
        },
        {
          "output_type": "stream",
          "text": [
            "Iter 2, Loss= 1.121744, Training Accuracy= 0.59375\n",
            "Optimization Finished!\n"
          ],
          "name": "stdout"
        },
        {
          "output_type": "stream",
          "text": [
            "  8%|▊         | 42/500 [00:03<00:36, 12.45it/s]"
          ],
          "name": "stderr"
        },
        {
          "output_type": "stream",
          "text": [
            "Iter 2, Loss= 1.122386, Training Accuracy= 0.67188\n",
            "Optimization Finished!\n"
          ],
          "name": "stdout"
        },
        {
          "output_type": "stream",
          "text": [
            " 12%|█▏        | 62/500 [00:04<00:35, 12.42it/s]"
          ],
          "name": "stderr"
        },
        {
          "output_type": "stream",
          "text": [
            "Iter 2, Loss= 0.951866, Training Accuracy= 0.67188\n",
            "Optimization Finished!\n"
          ],
          "name": "stdout"
        },
        {
          "output_type": "stream",
          "text": [
            " 16%|█▋        | 82/500 [00:06<00:33, 12.41it/s]"
          ],
          "name": "stderr"
        },
        {
          "output_type": "stream",
          "text": [
            "Iter 2, Loss= 0.881548, Training Accuracy= 0.67188\n",
            "Optimization Finished!\n"
          ],
          "name": "stdout"
        },
        {
          "output_type": "stream",
          "text": [
            " 20%|██        | 102/500 [00:08<00:32, 12.42it/s]"
          ],
          "name": "stderr"
        },
        {
          "output_type": "stream",
          "text": [
            "Iter 2, Loss= 0.905295, Training Accuracy= 0.68750\n",
            "Optimization Finished!\n"
          ],
          "name": "stdout"
        },
        {
          "output_type": "stream",
          "text": [
            " 24%|██▍       | 122/500 [00:09<00:30, 12.41it/s]"
          ],
          "name": "stderr"
        },
        {
          "output_type": "stream",
          "text": [
            "Iter 2, Loss= 0.925302, Training Accuracy= 0.73438\n",
            "Optimization Finished!\n"
          ],
          "name": "stdout"
        },
        {
          "output_type": "stream",
          "text": [
            " 28%|██▊       | 142/500 [00:11<00:28, 12.51it/s]"
          ],
          "name": "stderr"
        },
        {
          "output_type": "stream",
          "text": [
            "Iter 2, Loss= 0.769801, Training Accuracy= 0.71875\n",
            "Optimization Finished!\n"
          ],
          "name": "stdout"
        },
        {
          "output_type": "stream",
          "text": [
            " 32%|███▏      | 162/500 [00:13<00:27, 12.41it/s]"
          ],
          "name": "stderr"
        },
        {
          "output_type": "stream",
          "text": [
            "Iter 2, Loss= 0.908404, Training Accuracy= 0.71875\n",
            "Optimization Finished!\n"
          ],
          "name": "stdout"
        },
        {
          "output_type": "stream",
          "text": [
            " 36%|███▋      | 182/500 [00:14<00:25, 12.35it/s]"
          ],
          "name": "stderr"
        },
        {
          "output_type": "stream",
          "text": [
            "Iter 2, Loss= 1.128751, Training Accuracy= 0.68750\n",
            "Optimization Finished!\n"
          ],
          "name": "stdout"
        },
        {
          "output_type": "stream",
          "text": [
            " 40%|████      | 202/500 [00:16<00:23, 12.45it/s]"
          ],
          "name": "stderr"
        },
        {
          "output_type": "stream",
          "text": [
            "Iter 2, Loss= 1.010943, Training Accuracy= 0.68750\n",
            "Optimization Finished!\n"
          ],
          "name": "stdout"
        },
        {
          "output_type": "stream",
          "text": [
            " 44%|████▍     | 222/500 [00:17<00:22, 12.34it/s]"
          ],
          "name": "stderr"
        },
        {
          "output_type": "stream",
          "text": [
            "Iter 2, Loss= 0.660153, Training Accuracy= 0.76562\n",
            "Optimization Finished!\n"
          ],
          "name": "stdout"
        },
        {
          "output_type": "stream",
          "text": [
            " 48%|████▊     | 242/500 [00:19<00:20, 12.54it/s]"
          ],
          "name": "stderr"
        },
        {
          "output_type": "stream",
          "text": [
            "Iter 2, Loss= 1.015608, Training Accuracy= 0.70312\n",
            "Optimization Finished!\n"
          ],
          "name": "stdout"
        },
        {
          "output_type": "stream",
          "text": [
            " 52%|█████▏    | 262/500 [00:21<00:19, 12.37it/s]"
          ],
          "name": "stderr"
        },
        {
          "output_type": "stream",
          "text": [
            "Iter 2, Loss= 1.024156, Training Accuracy= 0.65625\n",
            "Optimization Finished!\n"
          ],
          "name": "stdout"
        },
        {
          "output_type": "stream",
          "text": [
            " 56%|█████▋    | 282/500 [00:22<00:17, 12.36it/s]"
          ],
          "name": "stderr"
        },
        {
          "output_type": "stream",
          "text": [
            "Iter 2, Loss= 1.025305, Training Accuracy= 0.64062\n",
            "Optimization Finished!\n"
          ],
          "name": "stdout"
        },
        {
          "output_type": "stream",
          "text": [
            " 60%|██████    | 302/500 [00:24<00:15, 12.43it/s]"
          ],
          "name": "stderr"
        },
        {
          "output_type": "stream",
          "text": [
            "Iter 2, Loss= 1.130502, Training Accuracy= 0.62500\n",
            "Optimization Finished!\n"
          ],
          "name": "stdout"
        },
        {
          "output_type": "stream",
          "text": [
            " 64%|██████▍   | 322/500 [00:25<00:14, 12.47it/s]"
          ],
          "name": "stderr"
        },
        {
          "output_type": "stream",
          "text": [
            "Iter 2, Loss= 0.645553, Training Accuracy= 0.76562\n",
            "Optimization Finished!\n"
          ],
          "name": "stdout"
        },
        {
          "output_type": "stream",
          "text": [
            " 68%|██████▊   | 342/500 [00:27<00:12, 12.50it/s]"
          ],
          "name": "stderr"
        },
        {
          "output_type": "stream",
          "text": [
            "Iter 2, Loss= 0.908025, Training Accuracy= 0.75000\n",
            "Optimization Finished!\n"
          ],
          "name": "stdout"
        },
        {
          "output_type": "stream",
          "text": [
            " 72%|███████▏  | 362/500 [00:29<00:11, 12.38it/s]"
          ],
          "name": "stderr"
        },
        {
          "output_type": "stream",
          "text": [
            "Iter 2, Loss= 0.600971, Training Accuracy= 0.82812\n",
            "Optimization Finished!\n"
          ],
          "name": "stdout"
        },
        {
          "output_type": "stream",
          "text": [
            " 76%|███████▋  | 382/500 [00:30<00:09, 12.46it/s]"
          ],
          "name": "stderr"
        },
        {
          "output_type": "stream",
          "text": [
            "Iter 2, Loss= 0.624790, Training Accuracy= 0.82812\n",
            "Optimization Finished!\n"
          ],
          "name": "stdout"
        },
        {
          "output_type": "stream",
          "text": [
            " 80%|████████  | 402/500 [00:32<00:07, 12.54it/s]"
          ],
          "name": "stderr"
        },
        {
          "output_type": "stream",
          "text": [
            "Iter 2, Loss= 0.660574, Training Accuracy= 0.81250\n",
            "Optimization Finished!\n"
          ],
          "name": "stdout"
        },
        {
          "output_type": "stream",
          "text": [
            " 84%|████████▍ | 422/500 [00:33<00:06, 12.48it/s]"
          ],
          "name": "stderr"
        },
        {
          "output_type": "stream",
          "text": [
            "Iter 2, Loss= 0.564857, Training Accuracy= 0.82812\n",
            "Optimization Finished!\n"
          ],
          "name": "stdout"
        },
        {
          "output_type": "stream",
          "text": [
            " 88%|████████▊ | 442/500 [00:35<00:04, 12.43it/s]"
          ],
          "name": "stderr"
        },
        {
          "output_type": "stream",
          "text": [
            "Iter 2, Loss= 0.653541, Training Accuracy= 0.76562\n",
            "Optimization Finished!\n"
          ],
          "name": "stdout"
        },
        {
          "output_type": "stream",
          "text": [
            " 92%|█████████▏| 462/500 [00:37<00:03, 12.52it/s]"
          ],
          "name": "stderr"
        },
        {
          "output_type": "stream",
          "text": [
            "Iter 2, Loss= 0.811530, Training Accuracy= 0.75000\n",
            "Optimization Finished!\n"
          ],
          "name": "stdout"
        },
        {
          "output_type": "stream",
          "text": [
            " 96%|█████████▋| 482/500 [00:38<00:01, 12.44it/s]"
          ],
          "name": "stderr"
        },
        {
          "output_type": "stream",
          "text": [
            "Iter 2, Loss= 0.676022, Training Accuracy= 0.78125\n",
            "Optimization Finished!\n"
          ],
          "name": "stdout"
        },
        {
          "output_type": "stream",
          "text": [
            "100%|██████████| 500/500 [00:40<00:00, 12.46it/s]\n",
            "  0%|          | 0/500 [00:00<?, ?it/s]"
          ],
          "name": "stderr"
        },
        {
          "output_type": "stream",
          "text": [
            "Iter 2, Loss= 0.779787, Training Accuracy= 0.78125\n",
            "Optimization Finished!\n"
          ],
          "name": "stdout"
        },
        {
          "output_type": "stream",
          "text": [
            "  4%|▍         | 22/500 [00:01<00:38, 12.45it/s]"
          ],
          "name": "stderr"
        },
        {
          "output_type": "stream",
          "text": [
            "Iter 3, Loss= 0.947007, Training Accuracy= 0.73438\n",
            "Optimization Finished!\n"
          ],
          "name": "stdout"
        },
        {
          "output_type": "stream",
          "text": [
            "  8%|▊         | 42/500 [00:03<00:36, 12.50it/s]"
          ],
          "name": "stderr"
        },
        {
          "output_type": "stream",
          "text": [
            "Iter 3, Loss= 0.837732, Training Accuracy= 0.67188\n",
            "Optimization Finished!\n"
          ],
          "name": "stdout"
        },
        {
          "output_type": "stream",
          "text": [
            " 12%|█▏        | 62/500 [00:04<00:35, 12.51it/s]"
          ],
          "name": "stderr"
        },
        {
          "output_type": "stream",
          "text": [
            "Iter 3, Loss= 0.992983, Training Accuracy= 0.75000\n",
            "Optimization Finished!\n"
          ],
          "name": "stdout"
        },
        {
          "output_type": "stream",
          "text": [
            " 16%|█▋        | 82/500 [00:06<00:33, 12.42it/s]"
          ],
          "name": "stderr"
        },
        {
          "output_type": "stream",
          "text": [
            "Iter 3, Loss= 0.599266, Training Accuracy= 0.81250\n",
            "Optimization Finished!\n"
          ],
          "name": "stdout"
        },
        {
          "output_type": "stream",
          "text": [
            " 20%|██        | 102/500 [00:08<00:31, 12.54it/s]"
          ],
          "name": "stderr"
        },
        {
          "output_type": "stream",
          "text": [
            "Iter 3, Loss= 0.628016, Training Accuracy= 0.82812\n",
            "Optimization Finished!\n"
          ],
          "name": "stdout"
        },
        {
          "output_type": "stream",
          "text": [
            " 24%|██▍       | 122/500 [00:09<00:30, 12.51it/s]"
          ],
          "name": "stderr"
        },
        {
          "output_type": "stream",
          "text": [
            "Iter 3, Loss= 0.631353, Training Accuracy= 0.79688\n",
            "Optimization Finished!\n"
          ],
          "name": "stdout"
        },
        {
          "output_type": "stream",
          "text": [
            " 28%|██▊       | 142/500 [00:11<00:28, 12.47it/s]"
          ],
          "name": "stderr"
        },
        {
          "output_type": "stream",
          "text": [
            "Iter 3, Loss= 0.660796, Training Accuracy= 0.82812\n",
            "Optimization Finished!\n"
          ],
          "name": "stdout"
        },
        {
          "output_type": "stream",
          "text": [
            " 32%|███▏      | 162/500 [00:13<00:27, 12.37it/s]"
          ],
          "name": "stderr"
        },
        {
          "output_type": "stream",
          "text": [
            "Iter 3, Loss= 0.825619, Training Accuracy= 0.75000\n",
            "Optimization Finished!\n"
          ],
          "name": "stdout"
        },
        {
          "output_type": "stream",
          "text": [
            " 36%|███▋      | 182/500 [00:14<00:25, 12.52it/s]"
          ],
          "name": "stderr"
        },
        {
          "output_type": "stream",
          "text": [
            "Iter 3, Loss= 0.508481, Training Accuracy= 0.82812\n",
            "Optimization Finished!\n"
          ],
          "name": "stdout"
        },
        {
          "output_type": "stream",
          "text": [
            " 40%|████      | 202/500 [00:16<00:23, 12.48it/s]"
          ],
          "name": "stderr"
        },
        {
          "output_type": "stream",
          "text": [
            "Iter 3, Loss= 0.454781, Training Accuracy= 0.85938\n",
            "Optimization Finished!\n"
          ],
          "name": "stdout"
        },
        {
          "output_type": "stream",
          "text": [
            " 44%|████▍     | 222/500 [00:17<00:22, 12.41it/s]"
          ],
          "name": "stderr"
        },
        {
          "output_type": "stream",
          "text": [
            "Iter 3, Loss= 0.688193, Training Accuracy= 0.75000\n",
            "Optimization Finished!\n"
          ],
          "name": "stdout"
        },
        {
          "output_type": "stream",
          "text": [
            " 48%|████▊     | 242/500 [00:19<00:20, 12.38it/s]"
          ],
          "name": "stderr"
        },
        {
          "output_type": "stream",
          "text": [
            "Iter 3, Loss= 0.814984, Training Accuracy= 0.76562\n",
            "Optimization Finished!\n"
          ],
          "name": "stdout"
        },
        {
          "output_type": "stream",
          "text": [
            " 52%|█████▏    | 262/500 [00:21<00:19, 12.32it/s]"
          ],
          "name": "stderr"
        },
        {
          "output_type": "stream",
          "text": [
            "Iter 3, Loss= 0.592649, Training Accuracy= 0.82812\n",
            "Optimization Finished!\n"
          ],
          "name": "stdout"
        },
        {
          "output_type": "stream",
          "text": [
            " 56%|█████▋    | 282/500 [00:22<00:17, 12.39it/s]"
          ],
          "name": "stderr"
        },
        {
          "output_type": "stream",
          "text": [
            "Iter 3, Loss= 0.479466, Training Accuracy= 0.84375\n",
            "Optimization Finished!\n"
          ],
          "name": "stdout"
        },
        {
          "output_type": "stream",
          "text": [
            " 60%|██████    | 302/500 [00:24<00:15, 12.49it/s]"
          ],
          "name": "stderr"
        },
        {
          "output_type": "stream",
          "text": [
            "Iter 3, Loss= 0.826648, Training Accuracy= 0.73438\n",
            "Optimization Finished!\n"
          ],
          "name": "stdout"
        },
        {
          "output_type": "stream",
          "text": [
            " 64%|██████▍   | 322/500 [00:25<00:14, 12.49it/s]"
          ],
          "name": "stderr"
        },
        {
          "output_type": "stream",
          "text": [
            "Iter 3, Loss= 0.684161, Training Accuracy= 0.82812\n",
            "Optimization Finished!\n"
          ],
          "name": "stdout"
        },
        {
          "output_type": "stream",
          "text": [
            " 68%|██████▊   | 342/500 [00:27<00:12, 12.44it/s]"
          ],
          "name": "stderr"
        },
        {
          "output_type": "stream",
          "text": [
            "Iter 3, Loss= 0.493594, Training Accuracy= 0.85938\n",
            "Optimization Finished!\n"
          ],
          "name": "stdout"
        },
        {
          "output_type": "stream",
          "text": [
            " 72%|███████▏  | 362/500 [00:29<00:11, 12.48it/s]"
          ],
          "name": "stderr"
        },
        {
          "output_type": "stream",
          "text": [
            "Iter 3, Loss= 0.596237, Training Accuracy= 0.82812\n",
            "Optimization Finished!\n"
          ],
          "name": "stdout"
        },
        {
          "output_type": "stream",
          "text": [
            " 76%|███████▋  | 382/500 [00:30<00:09, 12.43it/s]"
          ],
          "name": "stderr"
        },
        {
          "output_type": "stream",
          "text": [
            "Iter 3, Loss= 0.777234, Training Accuracy= 0.81250\n",
            "Optimization Finished!\n"
          ],
          "name": "stdout"
        },
        {
          "output_type": "stream",
          "text": [
            " 80%|████████  | 402/500 [00:32<00:07, 12.43it/s]"
          ],
          "name": "stderr"
        },
        {
          "output_type": "stream",
          "text": [
            "Iter 3, Loss= 1.028504, Training Accuracy= 0.71875\n",
            "Optimization Finished!\n"
          ],
          "name": "stdout"
        },
        {
          "output_type": "stream",
          "text": [
            " 84%|████████▍ | 422/500 [00:33<00:06, 12.51it/s]"
          ],
          "name": "stderr"
        },
        {
          "output_type": "stream",
          "text": [
            "Iter 3, Loss= 0.716528, Training Accuracy= 0.81250\n",
            "Optimization Finished!\n"
          ],
          "name": "stdout"
        },
        {
          "output_type": "stream",
          "text": [
            " 88%|████████▊ | 442/500 [00:35<00:04, 12.35it/s]"
          ],
          "name": "stderr"
        },
        {
          "output_type": "stream",
          "text": [
            "Iter 3, Loss= 0.399848, Training Accuracy= 0.89062\n",
            "Optimization Finished!\n"
          ],
          "name": "stdout"
        },
        {
          "output_type": "stream",
          "text": [
            " 92%|█████████▏| 462/500 [00:37<00:03, 12.37it/s]"
          ],
          "name": "stderr"
        },
        {
          "output_type": "stream",
          "text": [
            "Iter 3, Loss= 0.564561, Training Accuracy= 0.82812\n",
            "Optimization Finished!\n"
          ],
          "name": "stdout"
        },
        {
          "output_type": "stream",
          "text": [
            " 96%|█████████▋| 482/500 [00:38<00:01, 12.49it/s]"
          ],
          "name": "stderr"
        },
        {
          "output_type": "stream",
          "text": [
            "Iter 3, Loss= 0.480047, Training Accuracy= 0.89062\n",
            "Optimization Finished!\n"
          ],
          "name": "stdout"
        },
        {
          "output_type": "stream",
          "text": [
            "100%|██████████| 500/500 [00:40<00:00, 12.45it/s]\n",
            "  0%|          | 0/500 [00:00<?, ?it/s]"
          ],
          "name": "stderr"
        },
        {
          "output_type": "stream",
          "text": [
            "Iter 3, Loss= 0.332707, Training Accuracy= 0.92188\n",
            "Optimization Finished!\n"
          ],
          "name": "stdout"
        },
        {
          "output_type": "stream",
          "text": [
            "  4%|▍         | 22/500 [00:01<00:38, 12.43it/s]"
          ],
          "name": "stderr"
        },
        {
          "output_type": "stream",
          "text": [
            "Iter 4, Loss= 0.478959, Training Accuracy= 0.85938\n",
            "Optimization Finished!\n"
          ],
          "name": "stdout"
        },
        {
          "output_type": "stream",
          "text": [
            "  8%|▊         | 42/500 [00:03<00:36, 12.46it/s]"
          ],
          "name": "stderr"
        },
        {
          "output_type": "stream",
          "text": [
            "Iter 4, Loss= 0.403129, Training Accuracy= 0.89062\n",
            "Optimization Finished!\n"
          ],
          "name": "stdout"
        },
        {
          "output_type": "stream",
          "text": [
            " 12%|█▏        | 62/500 [00:04<00:35, 12.37it/s]"
          ],
          "name": "stderr"
        },
        {
          "output_type": "stream",
          "text": [
            "Iter 4, Loss= 0.666255, Training Accuracy= 0.73438\n",
            "Optimization Finished!\n"
          ],
          "name": "stdout"
        },
        {
          "output_type": "stream",
          "text": [
            " 16%|█▋        | 82/500 [00:06<00:33, 12.39it/s]"
          ],
          "name": "stderr"
        },
        {
          "output_type": "stream",
          "text": [
            "Iter 4, Loss= 0.600261, Training Accuracy= 0.81250\n",
            "Optimization Finished!\n"
          ],
          "name": "stdout"
        },
        {
          "output_type": "stream",
          "text": [
            " 20%|██        | 102/500 [00:08<00:32, 12.30it/s]"
          ],
          "name": "stderr"
        },
        {
          "output_type": "stream",
          "text": [
            "Iter 4, Loss= 0.446416, Training Accuracy= 0.84375\n",
            "Optimization Finished!\n"
          ],
          "name": "stdout"
        },
        {
          "output_type": "stream",
          "text": [
            " 24%|██▍       | 122/500 [00:09<00:30, 12.44it/s]"
          ],
          "name": "stderr"
        },
        {
          "output_type": "stream",
          "text": [
            "Iter 4, Loss= 0.567729, Training Accuracy= 0.81250\n",
            "Optimization Finished!\n"
          ],
          "name": "stdout"
        },
        {
          "output_type": "stream",
          "text": [
            " 28%|██▊       | 142/500 [00:11<00:28, 12.41it/s]"
          ],
          "name": "stderr"
        },
        {
          "output_type": "stream",
          "text": [
            "Iter 4, Loss= 0.507192, Training Accuracy= 0.82812\n",
            "Optimization Finished!\n"
          ],
          "name": "stdout"
        },
        {
          "output_type": "stream",
          "text": [
            " 32%|███▏      | 162/500 [00:13<00:27, 12.33it/s]"
          ],
          "name": "stderr"
        },
        {
          "output_type": "stream",
          "text": [
            "Iter 4, Loss= 0.755374, Training Accuracy= 0.76562\n",
            "Optimization Finished!\n"
          ],
          "name": "stdout"
        },
        {
          "output_type": "stream",
          "text": [
            " 36%|███▋      | 182/500 [00:14<00:25, 12.37it/s]"
          ],
          "name": "stderr"
        },
        {
          "output_type": "stream",
          "text": [
            "Iter 4, Loss= 0.385036, Training Accuracy= 0.89062\n",
            "Optimization Finished!\n"
          ],
          "name": "stdout"
        },
        {
          "output_type": "stream",
          "text": [
            " 40%|████      | 202/500 [00:16<00:23, 12.50it/s]"
          ],
          "name": "stderr"
        },
        {
          "output_type": "stream",
          "text": [
            "Iter 4, Loss= 0.674287, Training Accuracy= 0.81250\n",
            "Optimization Finished!\n"
          ],
          "name": "stdout"
        },
        {
          "output_type": "stream",
          "text": [
            " 44%|████▍     | 222/500 [00:17<00:22, 12.45it/s]"
          ],
          "name": "stderr"
        },
        {
          "output_type": "stream",
          "text": [
            "Iter 4, Loss= 0.540296, Training Accuracy= 0.85938\n",
            "Optimization Finished!\n"
          ],
          "name": "stdout"
        },
        {
          "output_type": "stream",
          "text": [
            " 48%|████▊     | 242/500 [00:19<00:20, 12.30it/s]"
          ],
          "name": "stderr"
        },
        {
          "output_type": "stream",
          "text": [
            "Iter 4, Loss= 0.444516, Training Accuracy= 0.85938\n",
            "Optimization Finished!\n"
          ],
          "name": "stdout"
        },
        {
          "output_type": "stream",
          "text": [
            " 52%|█████▏    | 262/500 [00:21<00:19, 12.40it/s]"
          ],
          "name": "stderr"
        },
        {
          "output_type": "stream",
          "text": [
            "Iter 4, Loss= 0.692184, Training Accuracy= 0.81250\n",
            "Optimization Finished!\n"
          ],
          "name": "stdout"
        },
        {
          "output_type": "stream",
          "text": [
            " 56%|█████▋    | 282/500 [00:22<00:17, 12.49it/s]"
          ],
          "name": "stderr"
        },
        {
          "output_type": "stream",
          "text": [
            "Iter 4, Loss= 0.429344, Training Accuracy= 0.90625\n",
            "Optimization Finished!\n"
          ],
          "name": "stdout"
        },
        {
          "output_type": "stream",
          "text": [
            " 60%|██████    | 302/500 [00:24<00:15, 12.55it/s]"
          ],
          "name": "stderr"
        },
        {
          "output_type": "stream",
          "text": [
            "Iter 4, Loss= 0.333636, Training Accuracy= 0.90625\n",
            "Optimization Finished!\n"
          ],
          "name": "stdout"
        },
        {
          "output_type": "stream",
          "text": [
            " 64%|██████▍   | 322/500 [00:25<00:14, 12.52it/s]"
          ],
          "name": "stderr"
        },
        {
          "output_type": "stream",
          "text": [
            "Iter 4, Loss= 0.670216, Training Accuracy= 0.81250\n",
            "Optimization Finished!\n"
          ],
          "name": "stdout"
        },
        {
          "output_type": "stream",
          "text": [
            " 68%|██████▊   | 342/500 [00:27<00:12, 12.57it/s]"
          ],
          "name": "stderr"
        },
        {
          "output_type": "stream",
          "text": [
            "Iter 4, Loss= 0.610532, Training Accuracy= 0.79688\n",
            "Optimization Finished!\n"
          ],
          "name": "stdout"
        },
        {
          "output_type": "stream",
          "text": [
            " 72%|███████▏  | 362/500 [00:29<00:11, 12.32it/s]"
          ],
          "name": "stderr"
        },
        {
          "output_type": "stream",
          "text": [
            "Iter 4, Loss= 0.490209, Training Accuracy= 0.84375\n",
            "Optimization Finished!\n"
          ],
          "name": "stdout"
        },
        {
          "output_type": "stream",
          "text": [
            " 76%|███████▋  | 382/500 [00:30<00:09, 12.48it/s]"
          ],
          "name": "stderr"
        },
        {
          "output_type": "stream",
          "text": [
            "Iter 4, Loss= 0.816552, Training Accuracy= 0.82812\n",
            "Optimization Finished!\n"
          ],
          "name": "stdout"
        },
        {
          "output_type": "stream",
          "text": [
            " 80%|████████  | 402/500 [00:32<00:07, 12.57it/s]"
          ],
          "name": "stderr"
        },
        {
          "output_type": "stream",
          "text": [
            "Iter 4, Loss= 0.531541, Training Accuracy= 0.81250\n",
            "Optimization Finished!\n"
          ],
          "name": "stdout"
        },
        {
          "output_type": "stream",
          "text": [
            " 84%|████████▍ | 422/500 [00:33<00:06, 12.32it/s]"
          ],
          "name": "stderr"
        },
        {
          "output_type": "stream",
          "text": [
            "Iter 4, Loss= 0.709382, Training Accuracy= 0.82812\n",
            "Optimization Finished!\n"
          ],
          "name": "stdout"
        },
        {
          "output_type": "stream",
          "text": [
            " 88%|████████▊ | 442/500 [00:35<00:04, 12.48it/s]"
          ],
          "name": "stderr"
        },
        {
          "output_type": "stream",
          "text": [
            "Iter 4, Loss= 0.649782, Training Accuracy= 0.82812\n",
            "Optimization Finished!\n"
          ],
          "name": "stdout"
        },
        {
          "output_type": "stream",
          "text": [
            " 92%|█████████▏| 462/500 [00:37<00:03, 12.46it/s]"
          ],
          "name": "stderr"
        },
        {
          "output_type": "stream",
          "text": [
            "Iter 4, Loss= 0.611059, Training Accuracy= 0.82812\n",
            "Optimization Finished!\n"
          ],
          "name": "stdout"
        },
        {
          "output_type": "stream",
          "text": [
            " 96%|█████████▋| 482/500 [00:38<00:01, 12.53it/s]"
          ],
          "name": "stderr"
        },
        {
          "output_type": "stream",
          "text": [
            "Iter 4, Loss= 0.563434, Training Accuracy= 0.79688\n",
            "Optimization Finished!\n"
          ],
          "name": "stdout"
        },
        {
          "output_type": "stream",
          "text": [
            "100%|██████████| 500/500 [00:40<00:00, 12.51it/s]\n",
            "  0%|          | 0/500 [00:00<?, ?it/s]"
          ],
          "name": "stderr"
        },
        {
          "output_type": "stream",
          "text": [
            "Iter 4, Loss= 0.533618, Training Accuracy= 0.85938\n",
            "Optimization Finished!\n"
          ],
          "name": "stdout"
        },
        {
          "output_type": "stream",
          "text": [
            "  4%|▍         | 22/500 [00:01<00:38, 12.38it/s]"
          ],
          "name": "stderr"
        },
        {
          "output_type": "stream",
          "text": [
            "Iter 5, Loss= 0.894895, Training Accuracy= 0.76562\n",
            "Optimization Finished!\n"
          ],
          "name": "stdout"
        },
        {
          "output_type": "stream",
          "text": [
            "  8%|▊         | 42/500 [00:03<00:37, 12.35it/s]"
          ],
          "name": "stderr"
        },
        {
          "output_type": "stream",
          "text": [
            "Iter 5, Loss= 0.760819, Training Accuracy= 0.75000\n",
            "Optimization Finished!\n"
          ],
          "name": "stdout"
        },
        {
          "output_type": "stream",
          "text": [
            " 12%|█▏        | 62/500 [00:05<00:35, 12.44it/s]"
          ],
          "name": "stderr"
        },
        {
          "output_type": "stream",
          "text": [
            "Iter 5, Loss= 0.540738, Training Accuracy= 0.87500\n",
            "Optimization Finished!\n"
          ],
          "name": "stdout"
        },
        {
          "output_type": "stream",
          "text": [
            " 16%|█▋        | 82/500 [00:06<00:33, 12.43it/s]"
          ],
          "name": "stderr"
        },
        {
          "output_type": "stream",
          "text": [
            "Iter 5, Loss= 0.379058, Training Accuracy= 0.89062\n",
            "Optimization Finished!\n"
          ],
          "name": "stdout"
        },
        {
          "output_type": "stream",
          "text": [
            " 20%|██        | 102/500 [00:08<00:31, 12.56it/s]"
          ],
          "name": "stderr"
        },
        {
          "output_type": "stream",
          "text": [
            "Iter 5, Loss= 0.491830, Training Accuracy= 0.90625\n",
            "Optimization Finished!\n"
          ],
          "name": "stdout"
        },
        {
          "output_type": "stream",
          "text": [
            " 24%|██▍       | 122/500 [00:09<00:30, 12.40it/s]"
          ],
          "name": "stderr"
        },
        {
          "output_type": "stream",
          "text": [
            "Iter 5, Loss= 0.414990, Training Accuracy= 0.89062\n",
            "Optimization Finished!\n"
          ],
          "name": "stdout"
        },
        {
          "output_type": "stream",
          "text": [
            " 28%|██▊       | 142/500 [00:11<00:29, 12.31it/s]"
          ],
          "name": "stderr"
        },
        {
          "output_type": "stream",
          "text": [
            "Iter 5, Loss= 0.673010, Training Accuracy= 0.78125\n",
            "Optimization Finished!\n"
          ],
          "name": "stdout"
        },
        {
          "output_type": "stream",
          "text": [
            " 32%|███▏      | 162/500 [00:13<00:27, 12.43it/s]"
          ],
          "name": "stderr"
        },
        {
          "output_type": "stream",
          "text": [
            "Iter 5, Loss= 0.423882, Training Accuracy= 0.85938\n",
            "Optimization Finished!\n"
          ],
          "name": "stdout"
        },
        {
          "output_type": "stream",
          "text": [
            " 36%|███▋      | 182/500 [00:14<00:25, 12.28it/s]"
          ],
          "name": "stderr"
        },
        {
          "output_type": "stream",
          "text": [
            "Iter 5, Loss= 0.427842, Training Accuracy= 0.84375\n",
            "Optimization Finished!\n"
          ],
          "name": "stdout"
        },
        {
          "output_type": "stream",
          "text": [
            " 40%|████      | 202/500 [00:16<00:23, 12.45it/s]"
          ],
          "name": "stderr"
        },
        {
          "output_type": "stream",
          "text": [
            "Iter 5, Loss= 0.603599, Training Accuracy= 0.84375\n",
            "Optimization Finished!\n"
          ],
          "name": "stdout"
        },
        {
          "output_type": "stream",
          "text": [
            " 44%|████▍     | 222/500 [00:17<00:22, 12.47it/s]"
          ],
          "name": "stderr"
        },
        {
          "output_type": "stream",
          "text": [
            "Iter 5, Loss= 0.418659, Training Accuracy= 0.85938\n",
            "Optimization Finished!\n"
          ],
          "name": "stdout"
        },
        {
          "output_type": "stream",
          "text": [
            " 48%|████▊     | 242/500 [00:19<00:20, 12.40it/s]"
          ],
          "name": "stderr"
        },
        {
          "output_type": "stream",
          "text": [
            "Iter 5, Loss= 0.583779, Training Accuracy= 0.82812\n",
            "Optimization Finished!\n"
          ],
          "name": "stdout"
        },
        {
          "output_type": "stream",
          "text": [
            " 52%|█████▏    | 262/500 [00:21<00:19, 12.38it/s]"
          ],
          "name": "stderr"
        },
        {
          "output_type": "stream",
          "text": [
            "Iter 5, Loss= 0.339948, Training Accuracy= 0.87500\n",
            "Optimization Finished!\n"
          ],
          "name": "stdout"
        },
        {
          "output_type": "stream",
          "text": [
            " 56%|█████▋    | 282/500 [00:22<00:17, 12.40it/s]"
          ],
          "name": "stderr"
        },
        {
          "output_type": "stream",
          "text": [
            "Iter 5, Loss= 0.389544, Training Accuracy= 0.90625\n",
            "Optimization Finished!\n"
          ],
          "name": "stdout"
        },
        {
          "output_type": "stream",
          "text": [
            " 60%|██████    | 302/500 [00:24<00:15, 12.53it/s]"
          ],
          "name": "stderr"
        },
        {
          "output_type": "stream",
          "text": [
            "Iter 5, Loss= 0.570213, Training Accuracy= 0.84375\n",
            "Optimization Finished!\n"
          ],
          "name": "stdout"
        },
        {
          "output_type": "stream",
          "text": [
            " 64%|██████▍   | 322/500 [00:25<00:14, 12.42it/s]"
          ],
          "name": "stderr"
        },
        {
          "output_type": "stream",
          "text": [
            "Iter 5, Loss= 0.562212, Training Accuracy= 0.87500\n",
            "Optimization Finished!\n"
          ],
          "name": "stdout"
        },
        {
          "output_type": "stream",
          "text": [
            " 68%|██████▊   | 342/500 [00:27<00:12, 12.48it/s]"
          ],
          "name": "stderr"
        },
        {
          "output_type": "stream",
          "text": [
            "Iter 5, Loss= 0.439772, Training Accuracy= 0.85938\n",
            "Optimization Finished!\n"
          ],
          "name": "stdout"
        },
        {
          "output_type": "stream",
          "text": [
            " 72%|███████▏  | 362/500 [00:29<00:11, 12.46it/s]"
          ],
          "name": "stderr"
        },
        {
          "output_type": "stream",
          "text": [
            "Iter 5, Loss= 0.546190, Training Accuracy= 0.79688\n",
            "Optimization Finished!\n"
          ],
          "name": "stdout"
        },
        {
          "output_type": "stream",
          "text": [
            " 76%|███████▋  | 382/500 [00:30<00:09, 12.45it/s]"
          ],
          "name": "stderr"
        },
        {
          "output_type": "stream",
          "text": [
            "Iter 5, Loss= 0.371365, Training Accuracy= 0.89062\n",
            "Optimization Finished!\n"
          ],
          "name": "stdout"
        },
        {
          "output_type": "stream",
          "text": [
            " 80%|████████  | 402/500 [00:32<00:07, 12.50it/s]"
          ],
          "name": "stderr"
        },
        {
          "output_type": "stream",
          "text": [
            "Iter 5, Loss= 0.372062, Training Accuracy= 0.85938\n",
            "Optimization Finished!\n"
          ],
          "name": "stdout"
        },
        {
          "output_type": "stream",
          "text": [
            " 84%|████████▍ | 422/500 [00:33<00:06, 12.51it/s]"
          ],
          "name": "stderr"
        },
        {
          "output_type": "stream",
          "text": [
            "Iter 5, Loss= 0.566022, Training Accuracy= 0.81250\n",
            "Optimization Finished!\n"
          ],
          "name": "stdout"
        },
        {
          "output_type": "stream",
          "text": [
            " 88%|████████▊ | 442/500 [00:35<00:04, 12.47it/s]"
          ],
          "name": "stderr"
        },
        {
          "output_type": "stream",
          "text": [
            "Iter 5, Loss= 0.510442, Training Accuracy= 0.84375\n",
            "Optimization Finished!\n"
          ],
          "name": "stdout"
        },
        {
          "output_type": "stream",
          "text": [
            " 92%|█████████▏| 462/500 [00:37<00:03, 12.40it/s]"
          ],
          "name": "stderr"
        },
        {
          "output_type": "stream",
          "text": [
            "Iter 5, Loss= 0.561002, Training Accuracy= 0.81250\n",
            "Optimization Finished!\n"
          ],
          "name": "stdout"
        },
        {
          "output_type": "stream",
          "text": [
            " 96%|█████████▋| 482/500 [00:38<00:01, 12.49it/s]"
          ],
          "name": "stderr"
        },
        {
          "output_type": "stream",
          "text": [
            "Iter 5, Loss= 0.648585, Training Accuracy= 0.78125\n",
            "Optimization Finished!\n"
          ],
          "name": "stdout"
        },
        {
          "output_type": "stream",
          "text": [
            "100%|██████████| 500/500 [00:40<00:00, 12.34it/s]\n",
            "  0%|          | 0/500 [00:00<?, ?it/s]"
          ],
          "name": "stderr"
        },
        {
          "output_type": "stream",
          "text": [
            "Iter 5, Loss= 0.422253, Training Accuracy= 0.90625\n",
            "Optimization Finished!\n"
          ],
          "name": "stdout"
        },
        {
          "output_type": "stream",
          "text": [
            "  4%|▍         | 22/500 [00:01<00:38, 12.46it/s]"
          ],
          "name": "stderr"
        },
        {
          "output_type": "stream",
          "text": [
            "Iter 6, Loss= 0.397798, Training Accuracy= 0.85938\n",
            "Optimization Finished!\n"
          ],
          "name": "stdout"
        },
        {
          "output_type": "stream",
          "text": [
            "  8%|▊         | 42/500 [00:03<00:36, 12.46it/s]"
          ],
          "name": "stderr"
        },
        {
          "output_type": "stream",
          "text": [
            "Iter 6, Loss= 0.444503, Training Accuracy= 0.84375\n",
            "Optimization Finished!\n"
          ],
          "name": "stdout"
        },
        {
          "output_type": "stream",
          "text": [
            " 12%|█▏        | 62/500 [00:04<00:35, 12.40it/s]"
          ],
          "name": "stderr"
        },
        {
          "output_type": "stream",
          "text": [
            "Iter 6, Loss= 0.580375, Training Accuracy= 0.79688\n",
            "Optimization Finished!\n"
          ],
          "name": "stdout"
        },
        {
          "output_type": "stream",
          "text": [
            " 16%|█▋        | 82/500 [00:06<00:33, 12.48it/s]"
          ],
          "name": "stderr"
        },
        {
          "output_type": "stream",
          "text": [
            "Iter 6, Loss= 0.582969, Training Accuracy= 0.84375\n",
            "Optimization Finished!\n"
          ],
          "name": "stdout"
        },
        {
          "output_type": "stream",
          "text": [
            " 20%|██        | 102/500 [00:08<00:32, 12.37it/s]"
          ],
          "name": "stderr"
        },
        {
          "output_type": "stream",
          "text": [
            "Iter 6, Loss= 0.504328, Training Accuracy= 0.85938\n",
            "Optimization Finished!\n"
          ],
          "name": "stdout"
        },
        {
          "output_type": "stream",
          "text": [
            " 24%|██▍       | 122/500 [00:09<00:30, 12.41it/s]"
          ],
          "name": "stderr"
        },
        {
          "output_type": "stream",
          "text": [
            "Iter 6, Loss= 0.367577, Training Accuracy= 0.87500\n",
            "Optimization Finished!\n"
          ],
          "name": "stdout"
        },
        {
          "output_type": "stream",
          "text": [
            " 28%|██▊       | 142/500 [00:11<00:28, 12.44it/s]"
          ],
          "name": "stderr"
        },
        {
          "output_type": "stream",
          "text": [
            "Iter 6, Loss= 0.267847, Training Accuracy= 0.95312\n",
            "Optimization Finished!\n"
          ],
          "name": "stdout"
        },
        {
          "output_type": "stream",
          "text": [
            " 32%|███▏      | 162/500 [00:13<00:27, 12.40it/s]"
          ],
          "name": "stderr"
        },
        {
          "output_type": "stream",
          "text": [
            "Iter 6, Loss= 0.688468, Training Accuracy= 0.81250\n",
            "Optimization Finished!\n"
          ],
          "name": "stdout"
        },
        {
          "output_type": "stream",
          "text": [
            " 36%|███▋      | 182/500 [00:14<00:25, 12.39it/s]"
          ],
          "name": "stderr"
        },
        {
          "output_type": "stream",
          "text": [
            "Iter 6, Loss= 0.329505, Training Accuracy= 0.89062\n",
            "Optimization Finished!\n"
          ],
          "name": "stdout"
        },
        {
          "output_type": "stream",
          "text": [
            " 40%|████      | 202/500 [00:16<00:24, 12.39it/s]"
          ],
          "name": "stderr"
        },
        {
          "output_type": "stream",
          "text": [
            "Iter 6, Loss= 0.504601, Training Accuracy= 0.87500\n",
            "Optimization Finished!\n"
          ],
          "name": "stdout"
        },
        {
          "output_type": "stream",
          "text": [
            " 44%|████▍     | 222/500 [00:17<00:22, 12.50it/s]"
          ],
          "name": "stderr"
        },
        {
          "output_type": "stream",
          "text": [
            "Iter 6, Loss= 0.835474, Training Accuracy= 0.76562\n",
            "Optimization Finished!\n"
          ],
          "name": "stdout"
        },
        {
          "output_type": "stream",
          "text": [
            " 48%|████▊     | 242/500 [00:19<00:20, 12.44it/s]"
          ],
          "name": "stderr"
        },
        {
          "output_type": "stream",
          "text": [
            "Iter 6, Loss= 0.575612, Training Accuracy= 0.78125\n",
            "Optimization Finished!\n"
          ],
          "name": "stdout"
        },
        {
          "output_type": "stream",
          "text": [
            " 52%|█████▏    | 262/500 [00:21<00:19, 12.43it/s]"
          ],
          "name": "stderr"
        },
        {
          "output_type": "stream",
          "text": [
            "Iter 6, Loss= 0.365288, Training Accuracy= 0.90625\n",
            "Optimization Finished!\n"
          ],
          "name": "stdout"
        },
        {
          "output_type": "stream",
          "text": [
            " 56%|█████▋    | 282/500 [00:22<00:17, 12.26it/s]"
          ],
          "name": "stderr"
        },
        {
          "output_type": "stream",
          "text": [
            "Iter 6, Loss= 0.575745, Training Accuracy= 0.81250\n",
            "Optimization Finished!\n"
          ],
          "name": "stdout"
        },
        {
          "output_type": "stream",
          "text": [
            " 60%|██████    | 302/500 [00:24<00:15, 12.50it/s]"
          ],
          "name": "stderr"
        },
        {
          "output_type": "stream",
          "text": [
            "Iter 6, Loss= 0.384144, Training Accuracy= 0.90625\n",
            "Optimization Finished!\n"
          ],
          "name": "stdout"
        },
        {
          "output_type": "stream",
          "text": [
            " 64%|██████▍   | 322/500 [00:25<00:14, 12.39it/s]"
          ],
          "name": "stderr"
        },
        {
          "output_type": "stream",
          "text": [
            "Iter 6, Loss= 0.576105, Training Accuracy= 0.84375\n",
            "Optimization Finished!\n"
          ],
          "name": "stdout"
        },
        {
          "output_type": "stream",
          "text": [
            " 68%|██████▊   | 342/500 [00:27<00:12, 12.38it/s]"
          ],
          "name": "stderr"
        },
        {
          "output_type": "stream",
          "text": [
            "Iter 6, Loss= 0.459666, Training Accuracy= 0.87500\n",
            "Optimization Finished!\n"
          ],
          "name": "stdout"
        },
        {
          "output_type": "stream",
          "text": [
            " 72%|███████▏  | 362/500 [00:29<00:11, 12.52it/s]"
          ],
          "name": "stderr"
        },
        {
          "output_type": "stream",
          "text": [
            "Iter 6, Loss= 0.379816, Training Accuracy= 0.87500\n",
            "Optimization Finished!\n"
          ],
          "name": "stdout"
        },
        {
          "output_type": "stream",
          "text": [
            " 76%|███████▋  | 382/500 [00:30<00:09, 12.46it/s]"
          ],
          "name": "stderr"
        },
        {
          "output_type": "stream",
          "text": [
            "Iter 6, Loss= 0.273832, Training Accuracy= 0.89062\n",
            "Optimization Finished!\n"
          ],
          "name": "stdout"
        },
        {
          "output_type": "stream",
          "text": [
            " 80%|████████  | 402/500 [00:32<00:07, 12.41it/s]"
          ],
          "name": "stderr"
        },
        {
          "output_type": "stream",
          "text": [
            "Iter 6, Loss= 0.370114, Training Accuracy= 0.89062\n",
            "Optimization Finished!\n"
          ],
          "name": "stdout"
        },
        {
          "output_type": "stream",
          "text": [
            " 84%|████████▍ | 422/500 [00:33<00:06, 12.41it/s]"
          ],
          "name": "stderr"
        },
        {
          "output_type": "stream",
          "text": [
            "Iter 6, Loss= 0.460122, Training Accuracy= 0.82812\n",
            "Optimization Finished!\n"
          ],
          "name": "stdout"
        },
        {
          "output_type": "stream",
          "text": [
            " 88%|████████▊ | 442/500 [00:35<00:04, 12.42it/s]"
          ],
          "name": "stderr"
        },
        {
          "output_type": "stream",
          "text": [
            "Iter 6, Loss= 0.569120, Training Accuracy= 0.81250\n",
            "Optimization Finished!\n"
          ],
          "name": "stdout"
        },
        {
          "output_type": "stream",
          "text": [
            " 92%|█████████▏| 462/500 [00:37<00:03, 12.39it/s]"
          ],
          "name": "stderr"
        },
        {
          "output_type": "stream",
          "text": [
            "Iter 6, Loss= 0.665543, Training Accuracy= 0.76562\n",
            "Optimization Finished!\n"
          ],
          "name": "stdout"
        },
        {
          "output_type": "stream",
          "text": [
            " 96%|█████████▋| 482/500 [00:38<00:01, 12.33it/s]"
          ],
          "name": "stderr"
        },
        {
          "output_type": "stream",
          "text": [
            "Iter 6, Loss= 0.597491, Training Accuracy= 0.84375\n",
            "Optimization Finished!\n"
          ],
          "name": "stdout"
        },
        {
          "output_type": "stream",
          "text": [
            "100%|██████████| 500/500 [00:40<00:00, 12.45it/s]\n",
            "  0%|          | 0/500 [00:00<?, ?it/s]"
          ],
          "name": "stderr"
        },
        {
          "output_type": "stream",
          "text": [
            "Iter 6, Loss= 0.611759, Training Accuracy= 0.82812\n",
            "Optimization Finished!\n"
          ],
          "name": "stdout"
        },
        {
          "output_type": "stream",
          "text": [
            "  4%|▍         | 22/500 [00:01<00:38, 12.39it/s]"
          ],
          "name": "stderr"
        },
        {
          "output_type": "stream",
          "text": [
            "Iter 7, Loss= 0.348355, Training Accuracy= 0.89062\n",
            "Optimization Finished!\n"
          ],
          "name": "stdout"
        },
        {
          "output_type": "stream",
          "text": [
            "  8%|▊         | 42/500 [00:03<00:36, 12.40it/s]"
          ],
          "name": "stderr"
        },
        {
          "output_type": "stream",
          "text": [
            "Iter 7, Loss= 0.344220, Training Accuracy= 0.90625\n",
            "Optimization Finished!\n"
          ],
          "name": "stdout"
        },
        {
          "output_type": "stream",
          "text": [
            " 12%|█▏        | 62/500 [00:05<00:35, 12.33it/s]"
          ],
          "name": "stderr"
        },
        {
          "output_type": "stream",
          "text": [
            "Iter 7, Loss= 0.590833, Training Accuracy= 0.79688\n",
            "Optimization Finished!\n"
          ],
          "name": "stdout"
        },
        {
          "output_type": "stream",
          "text": [
            " 16%|█▋        | 82/500 [00:06<00:33, 12.49it/s]"
          ],
          "name": "stderr"
        },
        {
          "output_type": "stream",
          "text": [
            "Iter 7, Loss= 0.487605, Training Accuracy= 0.81250\n",
            "Optimization Finished!\n"
          ],
          "name": "stdout"
        },
        {
          "output_type": "stream",
          "text": [
            " 20%|██        | 102/500 [00:08<00:31, 12.54it/s]"
          ],
          "name": "stderr"
        },
        {
          "output_type": "stream",
          "text": [
            "Iter 7, Loss= 0.451245, Training Accuracy= 0.89062\n",
            "Optimization Finished!\n"
          ],
          "name": "stdout"
        },
        {
          "output_type": "stream",
          "text": [
            " 24%|██▍       | 122/500 [00:09<00:30, 12.43it/s]"
          ],
          "name": "stderr"
        },
        {
          "output_type": "stream",
          "text": [
            "Iter 7, Loss= 0.482805, Training Accuracy= 0.84375\n",
            "Optimization Finished!\n"
          ],
          "name": "stdout"
        },
        {
          "output_type": "stream",
          "text": [
            " 28%|██▊       | 142/500 [00:11<00:28, 12.42it/s]"
          ],
          "name": "stderr"
        },
        {
          "output_type": "stream",
          "text": [
            "Iter 7, Loss= 0.461617, Training Accuracy= 0.87500\n",
            "Optimization Finished!\n"
          ],
          "name": "stdout"
        },
        {
          "output_type": "stream",
          "text": [
            " 32%|███▏      | 162/500 [00:13<00:26, 12.54it/s]"
          ],
          "name": "stderr"
        },
        {
          "output_type": "stream",
          "text": [
            "Iter 7, Loss= 0.390792, Training Accuracy= 0.89062\n",
            "Optimization Finished!\n"
          ],
          "name": "stdout"
        },
        {
          "output_type": "stream",
          "text": [
            " 36%|███▋      | 182/500 [00:14<00:25, 12.46it/s]"
          ],
          "name": "stderr"
        },
        {
          "output_type": "stream",
          "text": [
            "Iter 7, Loss= 0.393474, Training Accuracy= 0.85938\n",
            "Optimization Finished!\n"
          ],
          "name": "stdout"
        },
        {
          "output_type": "stream",
          "text": [
            " 40%|████      | 202/500 [00:16<00:23, 12.42it/s]"
          ],
          "name": "stderr"
        },
        {
          "output_type": "stream",
          "text": [
            "Iter 7, Loss= 0.449738, Training Accuracy= 0.90625\n",
            "Optimization Finished!\n"
          ],
          "name": "stdout"
        },
        {
          "output_type": "stream",
          "text": [
            " 44%|████▍     | 222/500 [00:17<00:22, 12.42it/s]"
          ],
          "name": "stderr"
        },
        {
          "output_type": "stream",
          "text": [
            "Iter 7, Loss= 0.431204, Training Accuracy= 0.87500\n",
            "Optimization Finished!\n"
          ],
          "name": "stdout"
        },
        {
          "output_type": "stream",
          "text": [
            " 48%|████▊     | 242/500 [00:19<00:20, 12.37it/s]"
          ],
          "name": "stderr"
        },
        {
          "output_type": "stream",
          "text": [
            "Iter 7, Loss= 0.410775, Training Accuracy= 0.85938\n",
            "Optimization Finished!\n"
          ],
          "name": "stdout"
        },
        {
          "output_type": "stream",
          "text": [
            " 52%|█████▏    | 262/500 [00:21<00:18, 12.56it/s]"
          ],
          "name": "stderr"
        },
        {
          "output_type": "stream",
          "text": [
            "Iter 7, Loss= 0.400553, Training Accuracy= 0.85938\n",
            "Optimization Finished!\n"
          ],
          "name": "stdout"
        },
        {
          "output_type": "stream",
          "text": [
            " 56%|█████▋    | 282/500 [00:22<00:17, 12.41it/s]"
          ],
          "name": "stderr"
        },
        {
          "output_type": "stream",
          "text": [
            "Iter 7, Loss= 0.471489, Training Accuracy= 0.85938\n",
            "Optimization Finished!\n"
          ],
          "name": "stdout"
        },
        {
          "output_type": "stream",
          "text": [
            " 60%|██████    | 302/500 [00:24<00:15, 12.43it/s]"
          ],
          "name": "stderr"
        },
        {
          "output_type": "stream",
          "text": [
            "Iter 7, Loss= 0.470754, Training Accuracy= 0.81250\n",
            "Optimization Finished!\n"
          ],
          "name": "stdout"
        },
        {
          "output_type": "stream",
          "text": [
            " 64%|██████▍   | 322/500 [00:25<00:14, 12.50it/s]"
          ],
          "name": "stderr"
        },
        {
          "output_type": "stream",
          "text": [
            "Iter 7, Loss= 0.730830, Training Accuracy= 0.73438\n",
            "Optimization Finished!\n"
          ],
          "name": "stdout"
        },
        {
          "output_type": "stream",
          "text": [
            " 68%|██████▊   | 342/500 [00:27<00:12, 12.59it/s]"
          ],
          "name": "stderr"
        },
        {
          "output_type": "stream",
          "text": [
            "Iter 7, Loss= 0.448030, Training Accuracy= 0.85938\n",
            "Optimization Finished!\n"
          ],
          "name": "stdout"
        },
        {
          "output_type": "stream",
          "text": [
            " 72%|███████▏  | 362/500 [00:29<00:11, 12.49it/s]"
          ],
          "name": "stderr"
        },
        {
          "output_type": "stream",
          "text": [
            "Iter 7, Loss= 0.662076, Training Accuracy= 0.79688\n",
            "Optimization Finished!\n"
          ],
          "name": "stdout"
        },
        {
          "output_type": "stream",
          "text": [
            " 76%|███████▋  | 382/500 [00:30<00:09, 12.46it/s]"
          ],
          "name": "stderr"
        },
        {
          "output_type": "stream",
          "text": [
            "Iter 7, Loss= 0.512336, Training Accuracy= 0.89062\n",
            "Optimization Finished!\n"
          ],
          "name": "stdout"
        },
        {
          "output_type": "stream",
          "text": [
            " 80%|████████  | 402/500 [00:32<00:07, 12.45it/s]"
          ],
          "name": "stderr"
        },
        {
          "output_type": "stream",
          "text": [
            "Iter 7, Loss= 0.395121, Training Accuracy= 0.87500\n",
            "Optimization Finished!\n"
          ],
          "name": "stdout"
        },
        {
          "output_type": "stream",
          "text": [
            " 84%|████████▍ | 422/500 [00:33<00:06, 12.34it/s]"
          ],
          "name": "stderr"
        },
        {
          "output_type": "stream",
          "text": [
            "Iter 7, Loss= 0.519758, Training Accuracy= 0.82812\n",
            "Optimization Finished!\n"
          ],
          "name": "stdout"
        },
        {
          "output_type": "stream",
          "text": [
            " 88%|████████▊ | 442/500 [00:35<00:04, 12.48it/s]"
          ],
          "name": "stderr"
        },
        {
          "output_type": "stream",
          "text": [
            "Iter 7, Loss= 0.481871, Training Accuracy= 0.82812\n",
            "Optimization Finished!\n"
          ],
          "name": "stdout"
        },
        {
          "output_type": "stream",
          "text": [
            " 92%|█████████▏| 462/500 [00:37<00:03, 12.38it/s]"
          ],
          "name": "stderr"
        },
        {
          "output_type": "stream",
          "text": [
            "Iter 7, Loss= 0.362258, Training Accuracy= 0.89062\n",
            "Optimization Finished!\n"
          ],
          "name": "stdout"
        },
        {
          "output_type": "stream",
          "text": [
            " 96%|█████████▋| 482/500 [00:38<00:01, 12.48it/s]"
          ],
          "name": "stderr"
        },
        {
          "output_type": "stream",
          "text": [
            "Iter 7, Loss= 0.443614, Training Accuracy= 0.85938\n",
            "Optimization Finished!\n"
          ],
          "name": "stdout"
        },
        {
          "output_type": "stream",
          "text": [
            "100%|██████████| 500/500 [00:40<00:00, 12.45it/s]\n",
            "  0%|          | 0/500 [00:00<?, ?it/s]"
          ],
          "name": "stderr"
        },
        {
          "output_type": "stream",
          "text": [
            "Iter 7, Loss= 0.327280, Training Accuracy= 0.90625\n",
            "Optimization Finished!\n"
          ],
          "name": "stdout"
        },
        {
          "output_type": "stream",
          "text": [
            "  4%|▍         | 22/500 [00:01<00:38, 12.43it/s]"
          ],
          "name": "stderr"
        },
        {
          "output_type": "stream",
          "text": [
            "Iter 8, Loss= 0.517439, Training Accuracy= 0.85938\n",
            "Optimization Finished!\n"
          ],
          "name": "stdout"
        },
        {
          "output_type": "stream",
          "text": [
            "  8%|▊         | 42/500 [00:03<00:36, 12.50it/s]"
          ],
          "name": "stderr"
        },
        {
          "output_type": "stream",
          "text": [
            "Iter 8, Loss= 0.863972, Training Accuracy= 0.75000\n",
            "Optimization Finished!\n"
          ],
          "name": "stdout"
        },
        {
          "output_type": "stream",
          "text": [
            " 12%|█▏        | 62/500 [00:04<00:35, 12.41it/s]"
          ],
          "name": "stderr"
        },
        {
          "output_type": "stream",
          "text": [
            "Iter 8, Loss= 0.324795, Training Accuracy= 0.89062\n",
            "Optimization Finished!\n"
          ],
          "name": "stdout"
        },
        {
          "output_type": "stream",
          "text": [
            " 16%|█▋        | 82/500 [00:06<00:33, 12.59it/s]"
          ],
          "name": "stderr"
        },
        {
          "output_type": "stream",
          "text": [
            "Iter 8, Loss= 0.585063, Training Accuracy= 0.79688\n",
            "Optimization Finished!\n"
          ],
          "name": "stdout"
        },
        {
          "output_type": "stream",
          "text": [
            " 20%|██        | 102/500 [00:08<00:32, 12.33it/s]"
          ],
          "name": "stderr"
        },
        {
          "output_type": "stream",
          "text": [
            "Iter 8, Loss= 0.449618, Training Accuracy= 0.89062\n",
            "Optimization Finished!\n"
          ],
          "name": "stdout"
        },
        {
          "output_type": "stream",
          "text": [
            " 24%|██▍       | 122/500 [00:09<00:30, 12.44it/s]"
          ],
          "name": "stderr"
        },
        {
          "output_type": "stream",
          "text": [
            "Iter 8, Loss= 0.425803, Training Accuracy= 0.87500\n",
            "Optimization Finished!\n"
          ],
          "name": "stdout"
        },
        {
          "output_type": "stream",
          "text": [
            " 28%|██▊       | 142/500 [00:11<00:28, 12.38it/s]"
          ],
          "name": "stderr"
        },
        {
          "output_type": "stream",
          "text": [
            "Iter 8, Loss= 0.436276, Training Accuracy= 0.85938\n",
            "Optimization Finished!\n"
          ],
          "name": "stdout"
        },
        {
          "output_type": "stream",
          "text": [
            " 32%|███▏      | 162/500 [00:12<00:27, 12.50it/s]"
          ],
          "name": "stderr"
        },
        {
          "output_type": "stream",
          "text": [
            "Iter 8, Loss= 0.545912, Training Accuracy= 0.85938\n",
            "Optimization Finished!\n"
          ],
          "name": "stdout"
        },
        {
          "output_type": "stream",
          "text": [
            " 36%|███▋      | 182/500 [00:14<00:25, 12.48it/s]"
          ],
          "name": "stderr"
        },
        {
          "output_type": "stream",
          "text": [
            "Iter 8, Loss= 0.464866, Training Accuracy= 0.89062\n",
            "Optimization Finished!\n"
          ],
          "name": "stdout"
        },
        {
          "output_type": "stream",
          "text": [
            " 40%|████      | 202/500 [00:16<00:24, 12.29it/s]"
          ],
          "name": "stderr"
        },
        {
          "output_type": "stream",
          "text": [
            "Iter 8, Loss= 0.479531, Training Accuracy= 0.87500\n",
            "Optimization Finished!\n"
          ],
          "name": "stdout"
        },
        {
          "output_type": "stream",
          "text": [
            " 44%|████▍     | 222/500 [00:17<00:22, 12.48it/s]"
          ],
          "name": "stderr"
        },
        {
          "output_type": "stream",
          "text": [
            "Iter 8, Loss= 0.432740, Training Accuracy= 0.85938\n",
            "Optimization Finished!\n"
          ],
          "name": "stdout"
        },
        {
          "output_type": "stream",
          "text": [
            " 48%|████▊     | 242/500 [00:19<00:20, 12.54it/s]"
          ],
          "name": "stderr"
        },
        {
          "output_type": "stream",
          "text": [
            "Iter 8, Loss= 0.270720, Training Accuracy= 0.89062\n",
            "Optimization Finished!\n"
          ],
          "name": "stdout"
        },
        {
          "output_type": "stream",
          "text": [
            " 52%|█████▏    | 262/500 [00:21<00:19, 12.36it/s]"
          ],
          "name": "stderr"
        },
        {
          "output_type": "stream",
          "text": [
            "Iter 8, Loss= 0.517921, Training Accuracy= 0.82812\n",
            "Optimization Finished!\n"
          ],
          "name": "stdout"
        },
        {
          "output_type": "stream",
          "text": [
            " 56%|█████▋    | 282/500 [00:22<00:17, 12.41it/s]"
          ],
          "name": "stderr"
        },
        {
          "output_type": "stream",
          "text": [
            "Iter 8, Loss= 0.746152, Training Accuracy= 0.84375\n",
            "Optimization Finished!\n"
          ],
          "name": "stdout"
        },
        {
          "output_type": "stream",
          "text": [
            " 60%|██████    | 302/500 [00:24<00:15, 12.48it/s]"
          ],
          "name": "stderr"
        },
        {
          "output_type": "stream",
          "text": [
            "Iter 8, Loss= 0.534637, Training Accuracy= 0.84375\n",
            "Optimization Finished!\n"
          ],
          "name": "stdout"
        },
        {
          "output_type": "stream",
          "text": [
            " 64%|██████▍   | 322/500 [00:25<00:14, 12.45it/s]"
          ],
          "name": "stderr"
        },
        {
          "output_type": "stream",
          "text": [
            "Iter 8, Loss= 0.318337, Training Accuracy= 0.90625\n",
            "Optimization Finished!\n"
          ],
          "name": "stdout"
        },
        {
          "output_type": "stream",
          "text": [
            " 68%|██████▊   | 342/500 [00:27<00:12, 12.50it/s]"
          ],
          "name": "stderr"
        },
        {
          "output_type": "stream",
          "text": [
            "Iter 8, Loss= 0.622181, Training Accuracy= 0.81250\n",
            "Optimization Finished!\n"
          ],
          "name": "stdout"
        },
        {
          "output_type": "stream",
          "text": [
            " 72%|███████▏  | 362/500 [00:29<00:11, 12.54it/s]"
          ],
          "name": "stderr"
        },
        {
          "output_type": "stream",
          "text": [
            "Iter 8, Loss= 0.383878, Training Accuracy= 0.87500\n",
            "Optimization Finished!\n"
          ],
          "name": "stdout"
        },
        {
          "output_type": "stream",
          "text": [
            " 76%|███████▋  | 382/500 [00:30<00:09, 12.41it/s]"
          ],
          "name": "stderr"
        },
        {
          "output_type": "stream",
          "text": [
            "Iter 8, Loss= 0.347499, Training Accuracy= 0.89062\n",
            "Optimization Finished!\n"
          ],
          "name": "stdout"
        },
        {
          "output_type": "stream",
          "text": [
            " 80%|████████  | 402/500 [00:32<00:07, 12.54it/s]"
          ],
          "name": "stderr"
        },
        {
          "output_type": "stream",
          "text": [
            "Iter 8, Loss= 0.326474, Training Accuracy= 0.85938\n",
            "Optimization Finished!\n"
          ],
          "name": "stdout"
        },
        {
          "output_type": "stream",
          "text": [
            " 84%|████████▍ | 422/500 [00:33<00:06, 12.43it/s]"
          ],
          "name": "stderr"
        },
        {
          "output_type": "stream",
          "text": [
            "Iter 8, Loss= 0.512832, Training Accuracy= 0.81250\n",
            "Optimization Finished!\n"
          ],
          "name": "stdout"
        },
        {
          "output_type": "stream",
          "text": [
            " 88%|████████▊ | 442/500 [00:35<00:04, 12.42it/s]"
          ],
          "name": "stderr"
        },
        {
          "output_type": "stream",
          "text": [
            "Iter 8, Loss= 0.483547, Training Accuracy= 0.87500\n",
            "Optimization Finished!\n"
          ],
          "name": "stdout"
        },
        {
          "output_type": "stream",
          "text": [
            " 92%|█████████▏| 462/500 [00:37<00:03, 12.41it/s]"
          ],
          "name": "stderr"
        },
        {
          "output_type": "stream",
          "text": [
            "Iter 8, Loss= 0.282048, Training Accuracy= 0.90625\n",
            "Optimization Finished!\n"
          ],
          "name": "stdout"
        },
        {
          "output_type": "stream",
          "text": [
            " 96%|█████████▋| 482/500 [00:38<00:01, 12.38it/s]"
          ],
          "name": "stderr"
        },
        {
          "output_type": "stream",
          "text": [
            "Iter 8, Loss= 0.580659, Training Accuracy= 0.81250\n",
            "Optimization Finished!\n"
          ],
          "name": "stdout"
        },
        {
          "output_type": "stream",
          "text": [
            "100%|██████████| 500/500 [00:40<00:00, 12.40it/s]\n",
            "  0%|          | 0/500 [00:00<?, ?it/s]"
          ],
          "name": "stderr"
        },
        {
          "output_type": "stream",
          "text": [
            "Iter 8, Loss= 0.411340, Training Accuracy= 0.85938\n",
            "Optimization Finished!\n"
          ],
          "name": "stdout"
        },
        {
          "output_type": "stream",
          "text": [
            "  4%|▍         | 22/500 [00:01<00:38, 12.33it/s]"
          ],
          "name": "stderr"
        },
        {
          "output_type": "stream",
          "text": [
            "Iter 9, Loss= 0.550196, Training Accuracy= 0.82812\n",
            "Optimization Finished!\n"
          ],
          "name": "stdout"
        },
        {
          "output_type": "stream",
          "text": [
            "  8%|▊         | 42/500 [00:03<00:36, 12.46it/s]"
          ],
          "name": "stderr"
        },
        {
          "output_type": "stream",
          "text": [
            "Iter 9, Loss= 0.582297, Training Accuracy= 0.84375\n",
            "Optimization Finished!\n"
          ],
          "name": "stdout"
        },
        {
          "output_type": "stream",
          "text": [
            " 12%|█▏        | 62/500 [00:04<00:35, 12.40it/s]"
          ],
          "name": "stderr"
        },
        {
          "output_type": "stream",
          "text": [
            "Iter 9, Loss= 0.687722, Training Accuracy= 0.84375\n",
            "Optimization Finished!\n"
          ],
          "name": "stdout"
        },
        {
          "output_type": "stream",
          "text": [
            " 16%|█▋        | 82/500 [00:06<00:33, 12.52it/s]"
          ],
          "name": "stderr"
        },
        {
          "output_type": "stream",
          "text": [
            "Iter 9, Loss= 0.363270, Training Accuracy= 0.87500\n",
            "Optimization Finished!\n"
          ],
          "name": "stdout"
        },
        {
          "output_type": "stream",
          "text": [
            " 20%|██        | 102/500 [00:08<00:31, 12.49it/s]"
          ],
          "name": "stderr"
        },
        {
          "output_type": "stream",
          "text": [
            "Iter 9, Loss= 0.541431, Training Accuracy= 0.84375\n",
            "Optimization Finished!\n"
          ],
          "name": "stdout"
        },
        {
          "output_type": "stream",
          "text": [
            " 24%|██▍       | 122/500 [00:09<00:30, 12.46it/s]"
          ],
          "name": "stderr"
        },
        {
          "output_type": "stream",
          "text": [
            "Iter 9, Loss= 0.473356, Training Accuracy= 0.85938\n",
            "Optimization Finished!\n"
          ],
          "name": "stdout"
        },
        {
          "output_type": "stream",
          "text": [
            " 28%|██▊       | 142/500 [00:11<00:28, 12.50it/s]"
          ],
          "name": "stderr"
        },
        {
          "output_type": "stream",
          "text": [
            "Iter 9, Loss= 0.402253, Training Accuracy= 0.85938\n",
            "Optimization Finished!\n"
          ],
          "name": "stdout"
        },
        {
          "output_type": "stream",
          "text": [
            " 32%|███▏      | 162/500 [00:12<00:27, 12.51it/s]"
          ],
          "name": "stderr"
        },
        {
          "output_type": "stream",
          "text": [
            "Iter 9, Loss= 0.507808, Training Accuracy= 0.87500\n",
            "Optimization Finished!\n"
          ],
          "name": "stdout"
        },
        {
          "output_type": "stream",
          "text": [
            " 36%|███▋      | 182/500 [00:14<00:25, 12.51it/s]"
          ],
          "name": "stderr"
        },
        {
          "output_type": "stream",
          "text": [
            "Iter 9, Loss= 0.352989, Training Accuracy= 0.89062\n",
            "Optimization Finished!\n"
          ],
          "name": "stdout"
        },
        {
          "output_type": "stream",
          "text": [
            " 40%|████      | 202/500 [00:16<00:23, 12.46it/s]"
          ],
          "name": "stderr"
        },
        {
          "output_type": "stream",
          "text": [
            "Iter 9, Loss= 0.445803, Training Accuracy= 0.87500\n",
            "Optimization Finished!\n"
          ],
          "name": "stdout"
        },
        {
          "output_type": "stream",
          "text": [
            " 44%|████▍     | 222/500 [00:17<00:22, 12.59it/s]"
          ],
          "name": "stderr"
        },
        {
          "output_type": "stream",
          "text": [
            "Iter 9, Loss= 0.361229, Training Accuracy= 0.85938\n",
            "Optimization Finished!\n"
          ],
          "name": "stdout"
        },
        {
          "output_type": "stream",
          "text": [
            " 48%|████▊     | 242/500 [00:19<00:20, 12.45it/s]"
          ],
          "name": "stderr"
        },
        {
          "output_type": "stream",
          "text": [
            "Iter 9, Loss= 0.456755, Training Accuracy= 0.85938\n",
            "Optimization Finished!\n"
          ],
          "name": "stdout"
        },
        {
          "output_type": "stream",
          "text": [
            " 52%|█████▏    | 262/500 [00:21<00:19, 12.41it/s]"
          ],
          "name": "stderr"
        },
        {
          "output_type": "stream",
          "text": [
            "Iter 9, Loss= 0.690607, Training Accuracy= 0.81250\n",
            "Optimization Finished!\n"
          ],
          "name": "stdout"
        },
        {
          "output_type": "stream",
          "text": [
            " 56%|█████▋    | 282/500 [00:22<00:17, 12.46it/s]"
          ],
          "name": "stderr"
        },
        {
          "output_type": "stream",
          "text": [
            "Iter 9, Loss= 0.582596, Training Accuracy= 0.82812\n",
            "Optimization Finished!\n"
          ],
          "name": "stdout"
        },
        {
          "output_type": "stream",
          "text": [
            " 60%|██████    | 302/500 [00:24<00:15, 12.47it/s]"
          ],
          "name": "stderr"
        },
        {
          "output_type": "stream",
          "text": [
            "Iter 9, Loss= 0.440883, Training Accuracy= 0.82812\n",
            "Optimization Finished!\n"
          ],
          "name": "stdout"
        },
        {
          "output_type": "stream",
          "text": [
            " 64%|██████▍   | 322/500 [00:25<00:14, 12.30it/s]"
          ],
          "name": "stderr"
        },
        {
          "output_type": "stream",
          "text": [
            "Iter 9, Loss= 0.387967, Training Accuracy= 0.87500\n",
            "Optimization Finished!\n"
          ],
          "name": "stdout"
        },
        {
          "output_type": "stream",
          "text": [
            " 68%|██████▊   | 342/500 [00:27<00:12, 12.39it/s]"
          ],
          "name": "stderr"
        },
        {
          "output_type": "stream",
          "text": [
            "Iter 9, Loss= 0.676533, Training Accuracy= 0.81250\n",
            "Optimization Finished!\n"
          ],
          "name": "stdout"
        },
        {
          "output_type": "stream",
          "text": [
            " 72%|███████▏  | 362/500 [00:29<00:11, 12.44it/s]"
          ],
          "name": "stderr"
        },
        {
          "output_type": "stream",
          "text": [
            "Iter 9, Loss= 0.734839, Training Accuracy= 0.79688\n",
            "Optimization Finished!\n"
          ],
          "name": "stdout"
        },
        {
          "output_type": "stream",
          "text": [
            " 76%|███████▋  | 382/500 [00:30<00:09, 12.39it/s]"
          ],
          "name": "stderr"
        },
        {
          "output_type": "stream",
          "text": [
            "Iter 9, Loss= 0.556269, Training Accuracy= 0.81250\n",
            "Optimization Finished!\n"
          ],
          "name": "stdout"
        },
        {
          "output_type": "stream",
          "text": [
            " 80%|████████  | 402/500 [00:32<00:07, 12.46it/s]"
          ],
          "name": "stderr"
        },
        {
          "output_type": "stream",
          "text": [
            "Iter 9, Loss= 0.509597, Training Accuracy= 0.82812\n",
            "Optimization Finished!\n"
          ],
          "name": "stdout"
        },
        {
          "output_type": "stream",
          "text": [
            " 84%|████████▍ | 422/500 [00:33<00:06, 12.44it/s]"
          ],
          "name": "stderr"
        },
        {
          "output_type": "stream",
          "text": [
            "Iter 9, Loss= 0.386842, Training Accuracy= 0.85938\n",
            "Optimization Finished!\n"
          ],
          "name": "stdout"
        },
        {
          "output_type": "stream",
          "text": [
            " 88%|████████▊ | 442/500 [00:35<00:04, 12.56it/s]"
          ],
          "name": "stderr"
        },
        {
          "output_type": "stream",
          "text": [
            "Iter 9, Loss= 0.507009, Training Accuracy= 0.89062\n",
            "Optimization Finished!\n"
          ],
          "name": "stdout"
        },
        {
          "output_type": "stream",
          "text": [
            " 92%|█████████▏| 462/500 [00:37<00:03, 12.49it/s]"
          ],
          "name": "stderr"
        },
        {
          "output_type": "stream",
          "text": [
            "Iter 9, Loss= 0.199573, Training Accuracy= 0.95312\n",
            "Optimization Finished!\n"
          ],
          "name": "stdout"
        },
        {
          "output_type": "stream",
          "text": [
            " 96%|█████████▋| 482/500 [00:38<00:01, 12.36it/s]"
          ],
          "name": "stderr"
        },
        {
          "output_type": "stream",
          "text": [
            "Iter 9, Loss= 0.630633, Training Accuracy= 0.78125\n",
            "Optimization Finished!\n"
          ],
          "name": "stdout"
        },
        {
          "output_type": "stream",
          "text": [
            "100%|██████████| 500/500 [00:40<00:00, 12.39it/s]\n"
          ],
          "name": "stderr"
        },
        {
          "output_type": "stream",
          "text": [
            "Iter 9, Loss= 0.431069, Training Accuracy= 0.85938\n",
            "Optimization Finished!\n",
            "[[757  14   9  14  14   9   7  26  16   9]\n",
            " [ 15 719   4  29  18  10  25  10  16  16]\n",
            " [  2   1 689   2  17   3  22   3   2   2]\n",
            " [  8  13   3 725   4   5   6  15  12   8]\n",
            " [  1  12  21   1 745   5   8   5  11   1]\n",
            " [  8   3   3   4  14 706   7   4   8   2]\n",
            " [  5  15  31   8  15  11 685   2  10   5]\n",
            " [  9   4   4   5   5   3   3 717   5   2]\n",
            " [ 16  10   8  17  21  14  14  19 661  15]\n",
            " [  8   7   2  18   4  16  14   3  49 692]]\n",
            "The test accuracy is:0.887\n"
          ],
          "name": "stdout"
        }
      ]
    },
    {
      "metadata": {
        "id": "jFluUynVJD-G",
        "colab_type": "code",
        "colab": {}
      },
      "cell_type": "code",
      "source": [
        "LOG_DIR = '/tmp/log'\n",
        "get_ipython().system_raw(\n",
        "    'tensorboard --logdir {} --host 0.0.0.0 --port 6006 &'\n",
        "    .format(LOG_DIR)\n",
        ")\n"
      ],
      "execution_count": 0,
      "outputs": []
    },
    {
      "metadata": {
        "id": "sA1fIL0q0cse",
        "colab_type": "code",
        "outputId": "1727bdf2-c541-4264-cbd2-41b708633072",
        "colab": {
          "base_uri": "https://localhost:8080/",
          "height": 238
        }
      },
      "cell_type": "code",
      "source": [
        "! wget https://bin.equinox.io/c/4VmDzA7iaHb/ngrok-stable-linux-amd64.zip\n",
        "! unzip ngrok-stable-linux-amd64.zip"
      ],
      "execution_count": 0,
      "outputs": [
        {
          "output_type": "stream",
          "text": [
            "--2019-01-21 19:10:24--  https://bin.equinox.io/c/4VmDzA7iaHb/ngrok-stable-linux-amd64.zip\n",
            "Resolving bin.equinox.io (bin.equinox.io)... 52.7.169.168, 52.71.139.107, 52.54.84.112, ...\n",
            "Connecting to bin.equinox.io (bin.equinox.io)|52.7.169.168|:443... connected.\n",
            "HTTP request sent, awaiting response... 200 OK\n",
            "Length: 5363700 (5.1M) [application/octet-stream]\n",
            "Saving to: ‘ngrok-stable-linux-amd64.zip’\n",
            "\n",
            "ngrok-stable-linux- 100%[===================>]   5.11M  9.23MB/s    in 0.6s    \n",
            "\n",
            "2019-01-21 19:10:25 (9.23 MB/s) - ‘ngrok-stable-linux-amd64.zip’ saved [5363700/5363700]\n",
            "\n",
            "Archive:  ngrok-stable-linux-amd64.zip\n",
            "  inflating: ngrok                   \n"
          ],
          "name": "stdout"
        }
      ]
    },
    {
      "metadata": {
        "id": "5Oh6G4qK0h4x",
        "colab_type": "code",
        "colab": {}
      },
      "cell_type": "code",
      "source": [
        "get_ipython().system_raw('./ngrok http 6006 &')"
      ],
      "execution_count": 0,
      "outputs": []
    },
    {
      "metadata": {
        "id": "u7VEAPYq0l0e",
        "colab_type": "code",
        "outputId": "35b15ee0-6784-43a6-dcfb-a23fdf34e57b",
        "colab": {
          "base_uri": "https://localhost:8080/",
          "height": 34
        }
      },
      "cell_type": "code",
      "source": [
        "! curl -s http://localhost:4040/api/tunnels | python3 -c \\\n",
        "    \"import sys, json; print(json.load(sys.stdin)['tunnels'][0]['public_url'])\""
      ],
      "execution_count": 0,
      "outputs": [
        {
          "output_type": "stream",
          "text": [
            "http://890de7ec.ngrok.io\n"
          ],
          "name": "stdout"
        }
      ]
    },
    {
      "metadata": {
        "id": "RzqB1s_o0pAF",
        "colab_type": "code",
        "colab": {}
      },
      "cell_type": "code",
      "source": [
        ""
      ],
      "execution_count": 0,
      "outputs": []
    }
  ]
}